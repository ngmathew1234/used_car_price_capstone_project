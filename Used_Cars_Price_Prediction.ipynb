{
 "cells": [
  {
   "cell_type": "markdown",
   "metadata": {
    "id": "9qwNfrVxzqUK"
   },
   "source": [
    "# **Used Cars Price Prediction**"
   ]
  },
  {
   "cell_type": "markdown",
   "metadata": {
    "id": "7AYx75_WoxUj"
   },
   "source": [
    "## **Problem Definition**\n",
    "\n",
    "### **The Context:**\n",
    "\n",
    " - Why is this problem important to solve?\n",
    " \n",
    " So Cars 4U can set up as a major player in the highly growing used car market in India \n",
    "\n",
    "### **The objective:**\n",
    "\n",
    " - What is the intended goal?\n",
    " \n",
    " To come up wuth a pricing model that will make help the company be profitable as it can be\n",
    "\n",
    "### **The key questions:**\n",
    "\n",
    "- What are the key questions that need to be answered?\n",
    "\n",
    "How should we price a car based on owners, age, Kms, etc. \n",
    "Do other performance features like Engine and Power play a role in pricing \n",
    "Does the type of car play a role in the pricing too.\n",
    "\n",
    "### **The problem formulation**:\n",
    "\n",
    "- What is it that we are trying to solve using data science?\n",
    "\n",
    "What is the value of a car based on certain characteristics i.e. the fields below \n"
   ]
  },
  {
   "cell_type": "markdown",
   "metadata": {
    "id": "FWxSdWjGzqUL"
   },
   "source": [
    "### **Data Dictionary**\n",
    "\n",
    "**S.No.** : Serial Number\n",
    "\n",
    "**Name** : Name of the car which includes Brand name and Model name\n",
    "\n",
    "**Location** : The location in which the car is being sold or is available for purchase (Cities)\n",
    "\n",
    "**Year** : Manufacturing year of the car\n",
    "\n",
    "**Kilometers_driven** : The total kilometers driven in the car by the previous owner(s) in KM\n",
    "\n",
    "**Fuel_Type** : The type of fuel used by the car (Petrol, Diesel, Electric, CNG, LPG)\n",
    "\n",
    "**Transmission** : The type of transmission used by the car (Automatic / Manual)\n",
    "\n",
    "**Owner** : Type of ownership\n",
    "\n",
    "**Mileage** : The standard mileage offered by the car company in kmpl or km/kg\n",
    "\n",
    "**Engine** : The displacement volume of the engine in CC\n",
    "\n",
    "**Power** : The maximum power of the engine in bhp\n",
    "\n",
    "**Seats** : The number of seats in the car\n",
    "\n",
    "**New_Price** : The price of a new car of the same model in INR 100,000\n",
    "\n",
    "**Price** : The price of the used car in INR 100,000 (**Target Variable**)"
   ]
  },
  {
   "cell_type": "markdown",
   "metadata": {
    "id": "rlLoEhsbtOSg"
   },
   "source": [
    "### **Loading libraries**"
   ]
  },
  {
   "cell_type": "code",
   "execution_count": 1,
   "metadata": {
    "id": "8J9KZGl9tOSh"
   },
   "outputs": [],
   "source": [
    "# Import required libraries\n",
    "import pandas as pd\n",
    "import numpy as np\n",
    "\n",
    "import matplotlib.pyplot as plt\n",
    "import seaborn as sns\n",
    "\n",
    "# To ignore warnings\n",
    "import warnings\n",
    "warnings.filterwarnings('ignore')\n",
    "\n",
    "# Remove the limit from the number of displayed columns and rows. It helps to see the entire dataframe while printing it\n",
    "pd.set_option(\"display.max_columns\", None)"
   ]
  },
  {
   "cell_type": "markdown",
   "metadata": {
    "id": "baG7rS5FtOSh"
   },
   "source": [
    "### **Let us load the data**"
   ]
  },
  {
   "cell_type": "code",
   "execution_count": 2,
   "metadata": {
    "id": "flK0muyhtOSi"
   },
   "outputs": [],
   "source": [
    "#Load of Data\n",
    "data=pd.read_csv('used_cars.csv')"
   ]
  },
  {
   "cell_type": "markdown",
   "metadata": {
    "id": "C-vYvvwEj6wz"
   },
   "source": [
    "## Data Overview"
   ]
  },
  {
   "cell_type": "markdown",
   "metadata": {
    "id": "eUxpRqnLj6wz"
   },
   "source": [
    "- Observations\n",
    "- Sanity checks"
   ]
  },
  {
   "cell_type": "code",
   "execution_count": 3,
   "metadata": {
    "id": "2qLw_c1Jj6wz"
   },
   "outputs": [
    {
     "data": {
      "text/html": [
       "<div>\n",
       "<style scoped>\n",
       "    .dataframe tbody tr th:only-of-type {\n",
       "        vertical-align: middle;\n",
       "    }\n",
       "\n",
       "    .dataframe tbody tr th {\n",
       "        vertical-align: top;\n",
       "    }\n",
       "\n",
       "    .dataframe thead th {\n",
       "        text-align: right;\n",
       "    }\n",
       "</style>\n",
       "<table border=\"1\" class=\"dataframe\">\n",
       "  <thead>\n",
       "    <tr style=\"text-align: right;\">\n",
       "      <th></th>\n",
       "      <th>S.No.</th>\n",
       "      <th>Name</th>\n",
       "      <th>Location</th>\n",
       "      <th>Year</th>\n",
       "      <th>Kilometers_Driven</th>\n",
       "      <th>Fuel_Type</th>\n",
       "      <th>Transmission</th>\n",
       "      <th>Owner_Type</th>\n",
       "      <th>Mileage</th>\n",
       "      <th>Engine</th>\n",
       "      <th>Power</th>\n",
       "      <th>Seats</th>\n",
       "      <th>New_price</th>\n",
       "      <th>Price</th>\n",
       "    </tr>\n",
       "  </thead>\n",
       "  <tbody>\n",
       "    <tr>\n",
       "      <th>0</th>\n",
       "      <td>0</td>\n",
       "      <td>Maruti Wagon R LXI CNG</td>\n",
       "      <td>Mumbai</td>\n",
       "      <td>2010</td>\n",
       "      <td>72000</td>\n",
       "      <td>CNG</td>\n",
       "      <td>Manual</td>\n",
       "      <td>First</td>\n",
       "      <td>26.60</td>\n",
       "      <td>998.0</td>\n",
       "      <td>58.16</td>\n",
       "      <td>5.0</td>\n",
       "      <td>NaN</td>\n",
       "      <td>1.75</td>\n",
       "    </tr>\n",
       "    <tr>\n",
       "      <th>1</th>\n",
       "      <td>1</td>\n",
       "      <td>Hyundai Creta 1.6 CRDi SX Option</td>\n",
       "      <td>Pune</td>\n",
       "      <td>2015</td>\n",
       "      <td>41000</td>\n",
       "      <td>Diesel</td>\n",
       "      <td>Manual</td>\n",
       "      <td>First</td>\n",
       "      <td>19.67</td>\n",
       "      <td>1582.0</td>\n",
       "      <td>126.20</td>\n",
       "      <td>5.0</td>\n",
       "      <td>NaN</td>\n",
       "      <td>12.50</td>\n",
       "    </tr>\n",
       "    <tr>\n",
       "      <th>2</th>\n",
       "      <td>2</td>\n",
       "      <td>Honda Jazz V</td>\n",
       "      <td>Chennai</td>\n",
       "      <td>2011</td>\n",
       "      <td>46000</td>\n",
       "      <td>Petrol</td>\n",
       "      <td>Manual</td>\n",
       "      <td>First</td>\n",
       "      <td>18.20</td>\n",
       "      <td>1199.0</td>\n",
       "      <td>88.70</td>\n",
       "      <td>5.0</td>\n",
       "      <td>8.61</td>\n",
       "      <td>4.50</td>\n",
       "    </tr>\n",
       "    <tr>\n",
       "      <th>3</th>\n",
       "      <td>3</td>\n",
       "      <td>Maruti Ertiga VDI</td>\n",
       "      <td>Chennai</td>\n",
       "      <td>2012</td>\n",
       "      <td>87000</td>\n",
       "      <td>Diesel</td>\n",
       "      <td>Manual</td>\n",
       "      <td>First</td>\n",
       "      <td>20.77</td>\n",
       "      <td>1248.0</td>\n",
       "      <td>88.76</td>\n",
       "      <td>7.0</td>\n",
       "      <td>NaN</td>\n",
       "      <td>6.00</td>\n",
       "    </tr>\n",
       "    <tr>\n",
       "      <th>4</th>\n",
       "      <td>4</td>\n",
       "      <td>Audi A4 New 2.0 TDI Multitronic</td>\n",
       "      <td>Coimbatore</td>\n",
       "      <td>2013</td>\n",
       "      <td>40670</td>\n",
       "      <td>Diesel</td>\n",
       "      <td>Automatic</td>\n",
       "      <td>Second</td>\n",
       "      <td>15.20</td>\n",
       "      <td>1968.0</td>\n",
       "      <td>140.80</td>\n",
       "      <td>5.0</td>\n",
       "      <td>NaN</td>\n",
       "      <td>17.74</td>\n",
       "    </tr>\n",
       "  </tbody>\n",
       "</table>\n",
       "</div>"
      ],
      "text/plain": [
       "   S.No.                              Name    Location  Year  \\\n",
       "0      0            Maruti Wagon R LXI CNG      Mumbai  2010   \n",
       "1      1  Hyundai Creta 1.6 CRDi SX Option        Pune  2015   \n",
       "2      2                      Honda Jazz V     Chennai  2011   \n",
       "3      3                 Maruti Ertiga VDI     Chennai  2012   \n",
       "4      4   Audi A4 New 2.0 TDI Multitronic  Coimbatore  2013   \n",
       "\n",
       "   Kilometers_Driven Fuel_Type Transmission Owner_Type  Mileage  Engine  \\\n",
       "0              72000       CNG       Manual      First    26.60   998.0   \n",
       "1              41000    Diesel       Manual      First    19.67  1582.0   \n",
       "2              46000    Petrol       Manual      First    18.20  1199.0   \n",
       "3              87000    Diesel       Manual      First    20.77  1248.0   \n",
       "4              40670    Diesel    Automatic     Second    15.20  1968.0   \n",
       "\n",
       "    Power  Seats  New_price  Price  \n",
       "0   58.16    5.0        NaN   1.75  \n",
       "1  126.20    5.0        NaN  12.50  \n",
       "2   88.70    5.0       8.61   4.50  \n",
       "3   88.76    7.0        NaN   6.00  \n",
       "4  140.80    5.0        NaN  17.74  "
      ]
     },
     "execution_count": 3,
     "metadata": {},
     "output_type": "execute_result"
    }
   ],
   "source": [
    "#Preview the Data\n",
    "data.head()"
   ]
  },
  {
   "cell_type": "code",
   "execution_count": 4,
   "metadata": {},
   "outputs": [
    {
     "name": "stdout",
     "output_type": "stream",
     "text": [
      "<class 'pandas.core.frame.DataFrame'>\n",
      "RangeIndex: 7253 entries, 0 to 7252\n",
      "Data columns (total 14 columns):\n",
      " #   Column             Non-Null Count  Dtype  \n",
      "---  ------             --------------  -----  \n",
      " 0   S.No.              7253 non-null   int64  \n",
      " 1   Name               7253 non-null   object \n",
      " 2   Location           7253 non-null   object \n",
      " 3   Year               7253 non-null   int64  \n",
      " 4   Kilometers_Driven  7253 non-null   int64  \n",
      " 5   Fuel_Type          7253 non-null   object \n",
      " 6   Transmission       7253 non-null   object \n",
      " 7   Owner_Type         7253 non-null   object \n",
      " 8   Mileage            7251 non-null   float64\n",
      " 9   Engine             7207 non-null   float64\n",
      " 10  Power              7078 non-null   float64\n",
      " 11  Seats              7200 non-null   float64\n",
      " 12  New_price          1006 non-null   float64\n",
      " 13  Price              6019 non-null   float64\n",
      "dtypes: float64(6), int64(3), object(5)\n",
      "memory usage: 793.4+ KB\n"
     ]
    }
   ],
   "source": [
    "# Check the datatypes of each column, number of entries, and null vales\n",
    "data.info()"
   ]
  },
  {
   "cell_type": "markdown",
   "metadata": {},
   "source": [
    "Observations and Insights: \n",
    "\n",
    "There are 7253 rows in our data set.\n",
    "\n",
    "S.no. column is just a index number, so it will not be needed \n",
    "\n",
    "Price and new price have missing values with new price having roughly 6/7 entries null.\n",
    "\n",
    "Transmission have 2 values (automatic and manual). \n",
    "\n",
    "Name, location, Fuel_type, Transmission, and Owner_Type are objects. \n"
   ]
  },
  {
   "cell_type": "markdown",
   "metadata": {
    "id": "crnR9cphIrct"
   },
   "source": [
    "## **Exploratory Data Analysis**"
   ]
  },
  {
   "cell_type": "markdown",
   "metadata": {
    "id": "WvetePFOj6w0"
   },
   "source": [
    "- EDA is an important part of any project involving data.\n",
    "- It is important to investigate and understand the data better before building a model with it.\n",
    "- A few questions have been mentioned below which will help you approach the analysis in the right manner and generate insights from the data.\n",
    "- A thorough analysis of the data, in addition to the questions mentioned below, should be done."
   ]
  },
  {
   "cell_type": "markdown",
   "metadata": {
    "id": "foDG3YDDtOSm"
   },
   "source": [
    "**Questions:**\n",
    "\n",
    "1. What is the summary statistics of the data? Explore summary statistics for numerical variables and the categorical variables\n",
    "2. Find out number of unique observations in each category of categorical columns? Write your findings/observations/insights\n",
    "3. Check the extreme values in different columns of the given data and write down the observtions? Remove the data where the values are un-realistic"
   ]
  },
  {
   "cell_type": "code",
   "execution_count": 5,
   "metadata": {
    "id": "B54IaafQj6w0"
   },
   "outputs": [
    {
     "data": {
      "text/html": [
       "<div>\n",
       "<style scoped>\n",
       "    .dataframe tbody tr th:only-of-type {\n",
       "        vertical-align: middle;\n",
       "    }\n",
       "\n",
       "    .dataframe tbody tr th {\n",
       "        vertical-align: top;\n",
       "    }\n",
       "\n",
       "    .dataframe thead th {\n",
       "        text-align: right;\n",
       "    }\n",
       "</style>\n",
       "<table border=\"1\" class=\"dataframe\">\n",
       "  <thead>\n",
       "    <tr style=\"text-align: right;\">\n",
       "      <th></th>\n",
       "      <th>count</th>\n",
       "      <th>mean</th>\n",
       "      <th>std</th>\n",
       "      <th>min</th>\n",
       "      <th>25%</th>\n",
       "      <th>50%</th>\n",
       "      <th>75%</th>\n",
       "      <th>max</th>\n",
       "    </tr>\n",
       "  </thead>\n",
       "  <tbody>\n",
       "    <tr>\n",
       "      <th>S.No.</th>\n",
       "      <td>7253.0</td>\n",
       "      <td>3626.000000</td>\n",
       "      <td>2093.905084</td>\n",
       "      <td>0.00</td>\n",
       "      <td>1813.000</td>\n",
       "      <td>3626.00</td>\n",
       "      <td>5439.0000</td>\n",
       "      <td>7252.00</td>\n",
       "    </tr>\n",
       "    <tr>\n",
       "      <th>Year</th>\n",
       "      <td>7253.0</td>\n",
       "      <td>2013.365366</td>\n",
       "      <td>3.254421</td>\n",
       "      <td>1996.00</td>\n",
       "      <td>2011.000</td>\n",
       "      <td>2014.00</td>\n",
       "      <td>2016.0000</td>\n",
       "      <td>2019.00</td>\n",
       "    </tr>\n",
       "    <tr>\n",
       "      <th>Kilometers_Driven</th>\n",
       "      <td>7253.0</td>\n",
       "      <td>58699.063146</td>\n",
       "      <td>84427.720583</td>\n",
       "      <td>171.00</td>\n",
       "      <td>34000.000</td>\n",
       "      <td>53416.00</td>\n",
       "      <td>73000.0000</td>\n",
       "      <td>6500000.00</td>\n",
       "    </tr>\n",
       "    <tr>\n",
       "      <th>Mileage</th>\n",
       "      <td>7251.0</td>\n",
       "      <td>18.141580</td>\n",
       "      <td>4.562197</td>\n",
       "      <td>0.00</td>\n",
       "      <td>15.170</td>\n",
       "      <td>18.16</td>\n",
       "      <td>21.1000</td>\n",
       "      <td>33.54</td>\n",
       "    </tr>\n",
       "    <tr>\n",
       "      <th>Engine</th>\n",
       "      <td>7207.0</td>\n",
       "      <td>1616.573470</td>\n",
       "      <td>595.285137</td>\n",
       "      <td>72.00</td>\n",
       "      <td>1198.000</td>\n",
       "      <td>1493.00</td>\n",
       "      <td>1968.0000</td>\n",
       "      <td>5998.00</td>\n",
       "    </tr>\n",
       "    <tr>\n",
       "      <th>Power</th>\n",
       "      <td>7078.0</td>\n",
       "      <td>112.765214</td>\n",
       "      <td>53.493553</td>\n",
       "      <td>34.20</td>\n",
       "      <td>75.000</td>\n",
       "      <td>94.00</td>\n",
       "      <td>138.1000</td>\n",
       "      <td>616.00</td>\n",
       "    </tr>\n",
       "    <tr>\n",
       "      <th>Seats</th>\n",
       "      <td>7200.0</td>\n",
       "      <td>5.280417</td>\n",
       "      <td>0.809277</td>\n",
       "      <td>2.00</td>\n",
       "      <td>5.000</td>\n",
       "      <td>5.00</td>\n",
       "      <td>5.0000</td>\n",
       "      <td>10.00</td>\n",
       "    </tr>\n",
       "    <tr>\n",
       "      <th>New_price</th>\n",
       "      <td>1006.0</td>\n",
       "      <td>22.779692</td>\n",
       "      <td>27.759344</td>\n",
       "      <td>3.91</td>\n",
       "      <td>7.885</td>\n",
       "      <td>11.57</td>\n",
       "      <td>26.0425</td>\n",
       "      <td>375.00</td>\n",
       "    </tr>\n",
       "    <tr>\n",
       "      <th>Price</th>\n",
       "      <td>6019.0</td>\n",
       "      <td>9.479468</td>\n",
       "      <td>11.187917</td>\n",
       "      <td>0.44</td>\n",
       "      <td>3.500</td>\n",
       "      <td>5.64</td>\n",
       "      <td>9.9500</td>\n",
       "      <td>160.00</td>\n",
       "    </tr>\n",
       "  </tbody>\n",
       "</table>\n",
       "</div>"
      ],
      "text/plain": [
       "                    count          mean           std      min        25%  \\\n",
       "S.No.              7253.0   3626.000000   2093.905084     0.00   1813.000   \n",
       "Year               7253.0   2013.365366      3.254421  1996.00   2011.000   \n",
       "Kilometers_Driven  7253.0  58699.063146  84427.720583   171.00  34000.000   \n",
       "Mileage            7251.0     18.141580      4.562197     0.00     15.170   \n",
       "Engine             7207.0   1616.573470    595.285137    72.00   1198.000   \n",
       "Power              7078.0    112.765214     53.493553    34.20     75.000   \n",
       "Seats              7200.0      5.280417      0.809277     2.00      5.000   \n",
       "New_price          1006.0     22.779692     27.759344     3.91      7.885   \n",
       "Price              6019.0      9.479468     11.187917     0.44      3.500   \n",
       "\n",
       "                        50%         75%         max  \n",
       "S.No.               3626.00   5439.0000     7252.00  \n",
       "Year                2014.00   2016.0000     2019.00  \n",
       "Kilometers_Driven  53416.00  73000.0000  6500000.00  \n",
       "Mileage               18.16     21.1000       33.54  \n",
       "Engine              1493.00   1968.0000     5998.00  \n",
       "Power                 94.00    138.1000      616.00  \n",
       "Seats                  5.00      5.0000       10.00  \n",
       "New_price             11.57     26.0425      375.00  \n",
       "Price                  5.64      9.9500      160.00  "
      ]
     },
     "execution_count": 5,
     "metadata": {},
     "output_type": "execute_result"
    }
   ],
   "source": [
    "## get a statisical analysis of the Data\n",
    "data.describe().T"
   ]
  },
  {
   "cell_type": "markdown",
   "metadata": {},
   "source": [
    "Observations and Insights: \n",
    "  \n",
    "Years columns shows that these are cars that were built betwween 1996 and 2019.\n",
    "\n",
    "Kilometers_Driven have a huge variation wih 6500000 km driven which could be a misprint and a min of 171. But 25-75% of the cars lie between 34000 and 73000 KM driven \n",
    "\n",
    "Mileage has min value of 0 which could be a misprint everthing else looks fine\n",
    "\n",
    "Engine has 25%-75% values being in range of 1198 to 1968. This shows that most of the cars have mid size engines. A a car with a the 72 engine value seems very low with the manufacturing years of the cars.\n",
    "\n",
    "The are cars that have 2 seats which could be coupe. 5 seat cars are common ones which makes sense. A 10 seat car could be a van. \n",
    "\n",
    "new price has huge variation between min and max values which can be guessed from the performance, brand, and type of car. \n",
    "\n"
   ]
  },
  {
   "cell_type": "code",
   "execution_count": 6,
   "metadata": {},
   "outputs": [
    {
     "name": "stdout",
     "output_type": "stream",
     "text": [
      "For column: Name\n",
      "count                       7253\n",
      "unique                      2041\n",
      "top       Mahindra XUV500 W8 2WD\n",
      "freq                          55\n",
      "Name: Name, dtype: object\n",
      "--------------------------------------------------\n",
      "For column: Location\n",
      "count       7253\n",
      "unique        11\n",
      "top       Mumbai\n",
      "freq         949\n",
      "Name: Location, dtype: object\n",
      "--------------------------------------------------\n",
      "For column: Fuel_Type\n",
      "count       7253\n",
      "unique         5\n",
      "top       Diesel\n",
      "freq        3852\n",
      "Name: Fuel_Type, dtype: object\n",
      "--------------------------------------------------\n",
      "For column: Transmission\n",
      "count       7253\n",
      "unique         2\n",
      "top       Manual\n",
      "freq        5204\n",
      "Name: Transmission, dtype: object\n",
      "--------------------------------------------------\n",
      "For column: Owner_Type\n",
      "count      7253\n",
      "unique        4\n",
      "top       First\n",
      "freq       5952\n",
      "Name: Owner_Type, dtype: object\n",
      "--------------------------------------------------\n"
     ]
    }
   ],
   "source": [
    "# Explore basic summary statistics of categorical variables.\n",
    "objcols = data.select_dtypes(include = ['object']).columns\n",
    "\n",
    "for c in objcols:\n",
    "    \n",
    "    print(\"For column:\", c)\n",
    "    \n",
    "    print(data[c].describe())\n",
    "    \n",
    "    print('-'*50)"
   ]
  },
  {
   "cell_type": "markdown",
   "metadata": {},
   "source": [
    "Observations and Insights:  \n",
    "\n",
    "Names have many unique values with few repetions with  Mahindra XUV500 W8 2WD being most repeated value at 55 times.\n",
    "\n",
    "Location have few unique values only 11 which means that the company dealing with used cars is only currently present in 11 cities, out of which Mumbai has most cars up for sale.\n",
    "\n",
    "Fuel type has only 5 unique values with diesel having  maximum frequency.\n",
    "\n",
    "Transmission has only 2 unique values, most cars are manual.\n",
    "\n",
    "Owner type has 4 unique values which can be first second third and fourth, among them first is most common. \n"
   ]
  },
  {
   "cell_type": "code",
   "execution_count": 7,
   "metadata": {},
   "outputs": [
    {
     "data": {
      "text/html": [
       "<div>\n",
       "<style scoped>\n",
       "    .dataframe tbody tr th:only-of-type {\n",
       "        vertical-align: middle;\n",
       "    }\n",
       "\n",
       "    .dataframe tbody tr th {\n",
       "        vertical-align: top;\n",
       "    }\n",
       "\n",
       "    .dataframe thead th {\n",
       "        text-align: right;\n",
       "    }\n",
       "</style>\n",
       "<table border=\"1\" class=\"dataframe\">\n",
       "  <thead>\n",
       "    <tr style=\"text-align: right;\">\n",
       "      <th></th>\n",
       "      <th>S.No.</th>\n",
       "      <th>Name</th>\n",
       "      <th>Location</th>\n",
       "      <th>Year</th>\n",
       "      <th>Kilometers_Driven</th>\n",
       "      <th>Fuel_Type</th>\n",
       "      <th>Transmission</th>\n",
       "      <th>Owner_Type</th>\n",
       "      <th>Mileage</th>\n",
       "      <th>Engine</th>\n",
       "      <th>Power</th>\n",
       "      <th>Seats</th>\n",
       "      <th>New_price</th>\n",
       "      <th>Price</th>\n",
       "    </tr>\n",
       "  </thead>\n",
       "  <tbody>\n",
       "    <tr>\n",
       "      <th>2328</th>\n",
       "      <td>2328</td>\n",
       "      <td>BMW X5 xDrive 30d M Sport</td>\n",
       "      <td>Chennai</td>\n",
       "      <td>2017</td>\n",
       "      <td>6500000</td>\n",
       "      <td>Diesel</td>\n",
       "      <td>Automatic</td>\n",
       "      <td>First</td>\n",
       "      <td>15.97</td>\n",
       "      <td>2993.0</td>\n",
       "      <td>258.00</td>\n",
       "      <td>5.0</td>\n",
       "      <td>NaN</td>\n",
       "      <td>65.00</td>\n",
       "    </tr>\n",
       "    <tr>\n",
       "      <th>340</th>\n",
       "      <td>340</td>\n",
       "      <td>Skoda Octavia Ambition Plus 2.0 TDI AT</td>\n",
       "      <td>Kolkata</td>\n",
       "      <td>2013</td>\n",
       "      <td>775000</td>\n",
       "      <td>Diesel</td>\n",
       "      <td>Automatic</td>\n",
       "      <td>First</td>\n",
       "      <td>19.30</td>\n",
       "      <td>1968.0</td>\n",
       "      <td>141.00</td>\n",
       "      <td>5.0</td>\n",
       "      <td>NaN</td>\n",
       "      <td>7.50</td>\n",
       "    </tr>\n",
       "    <tr>\n",
       "      <th>1860</th>\n",
       "      <td>1860</td>\n",
       "      <td>Volkswagen Vento Diesel Highline</td>\n",
       "      <td>Chennai</td>\n",
       "      <td>2013</td>\n",
       "      <td>720000</td>\n",
       "      <td>Diesel</td>\n",
       "      <td>Manual</td>\n",
       "      <td>First</td>\n",
       "      <td>20.54</td>\n",
       "      <td>1598.0</td>\n",
       "      <td>103.60</td>\n",
       "      <td>5.0</td>\n",
       "      <td>NaN</td>\n",
       "      <td>5.90</td>\n",
       "    </tr>\n",
       "    <tr>\n",
       "      <th>358</th>\n",
       "      <td>358</td>\n",
       "      <td>Hyundai i10 Magna 1.2</td>\n",
       "      <td>Chennai</td>\n",
       "      <td>2009</td>\n",
       "      <td>620000</td>\n",
       "      <td>Petrol</td>\n",
       "      <td>Manual</td>\n",
       "      <td>First</td>\n",
       "      <td>20.36</td>\n",
       "      <td>1197.0</td>\n",
       "      <td>78.90</td>\n",
       "      <td>5.0</td>\n",
       "      <td>NaN</td>\n",
       "      <td>2.70</td>\n",
       "    </tr>\n",
       "    <tr>\n",
       "      <th>2823</th>\n",
       "      <td>2823</td>\n",
       "      <td>Volkswagen Jetta 2013-2015 2.0L TDI Highline AT</td>\n",
       "      <td>Chennai</td>\n",
       "      <td>2015</td>\n",
       "      <td>480000</td>\n",
       "      <td>Diesel</td>\n",
       "      <td>Automatic</td>\n",
       "      <td>First</td>\n",
       "      <td>16.96</td>\n",
       "      <td>1968.0</td>\n",
       "      <td>138.03</td>\n",
       "      <td>5.0</td>\n",
       "      <td>NaN</td>\n",
       "      <td>13.00</td>\n",
       "    </tr>\n",
       "    <tr>\n",
       "      <th>3092</th>\n",
       "      <td>3092</td>\n",
       "      <td>Honda City i VTEC SV</td>\n",
       "      <td>Kolkata</td>\n",
       "      <td>2015</td>\n",
       "      <td>480000</td>\n",
       "      <td>Petrol</td>\n",
       "      <td>Manual</td>\n",
       "      <td>First</td>\n",
       "      <td>17.40</td>\n",
       "      <td>1497.0</td>\n",
       "      <td>117.30</td>\n",
       "      <td>5.0</td>\n",
       "      <td>NaN</td>\n",
       "      <td>5.00</td>\n",
       "    </tr>\n",
       "    <tr>\n",
       "      <th>4491</th>\n",
       "      <td>4491</td>\n",
       "      <td>Hyundai i20 Magna Optional 1.2</td>\n",
       "      <td>Bangalore</td>\n",
       "      <td>2013</td>\n",
       "      <td>445000</td>\n",
       "      <td>Petrol</td>\n",
       "      <td>Manual</td>\n",
       "      <td>First</td>\n",
       "      <td>18.50</td>\n",
       "      <td>1197.0</td>\n",
       "      <td>82.90</td>\n",
       "      <td>5.0</td>\n",
       "      <td>NaN</td>\n",
       "      <td>4.45</td>\n",
       "    </tr>\n",
       "    <tr>\n",
       "      <th>6921</th>\n",
       "      <td>6921</td>\n",
       "      <td>Maruti Swift Dzire Tour LDI</td>\n",
       "      <td>Jaipur</td>\n",
       "      <td>2012</td>\n",
       "      <td>350000</td>\n",
       "      <td>Diesel</td>\n",
       "      <td>Manual</td>\n",
       "      <td>First</td>\n",
       "      <td>23.40</td>\n",
       "      <td>1248.0</td>\n",
       "      <td>74.00</td>\n",
       "      <td>5.0</td>\n",
       "      <td>NaN</td>\n",
       "      <td>NaN</td>\n",
       "    </tr>\n",
       "    <tr>\n",
       "      <th>3649</th>\n",
       "      <td>3649</td>\n",
       "      <td>Tata Indigo LS</td>\n",
       "      <td>Jaipur</td>\n",
       "      <td>2008</td>\n",
       "      <td>300000</td>\n",
       "      <td>Diesel</td>\n",
       "      <td>Manual</td>\n",
       "      <td>First</td>\n",
       "      <td>17.00</td>\n",
       "      <td>1405.0</td>\n",
       "      <td>70.00</td>\n",
       "      <td>5.0</td>\n",
       "      <td>NaN</td>\n",
       "      <td>1.00</td>\n",
       "    </tr>\n",
       "    <tr>\n",
       "      <th>1528</th>\n",
       "      <td>1528</td>\n",
       "      <td>Toyota Innova 2.5 G (Diesel) 8 Seater BS IV</td>\n",
       "      <td>Hyderabad</td>\n",
       "      <td>2005</td>\n",
       "      <td>299322</td>\n",
       "      <td>Diesel</td>\n",
       "      <td>Manual</td>\n",
       "      <td>First</td>\n",
       "      <td>12.80</td>\n",
       "      <td>2494.0</td>\n",
       "      <td>102.00</td>\n",
       "      <td>8.0</td>\n",
       "      <td>NaN</td>\n",
       "      <td>4.00</td>\n",
       "    </tr>\n",
       "  </tbody>\n",
       "</table>\n",
       "</div>"
      ],
      "text/plain": [
       "      S.No.                                             Name   Location  Year  \\\n",
       "2328   2328                        BMW X5 xDrive 30d M Sport    Chennai  2017   \n",
       "340     340           Skoda Octavia Ambition Plus 2.0 TDI AT    Kolkata  2013   \n",
       "1860   1860                 Volkswagen Vento Diesel Highline    Chennai  2013   \n",
       "358     358                            Hyundai i10 Magna 1.2    Chennai  2009   \n",
       "2823   2823  Volkswagen Jetta 2013-2015 2.0L TDI Highline AT    Chennai  2015   \n",
       "3092   3092                             Honda City i VTEC SV    Kolkata  2015   \n",
       "4491   4491                   Hyundai i20 Magna Optional 1.2  Bangalore  2013   \n",
       "6921   6921                      Maruti Swift Dzire Tour LDI     Jaipur  2012   \n",
       "3649   3649                                   Tata Indigo LS     Jaipur  2008   \n",
       "1528   1528      Toyota Innova 2.5 G (Diesel) 8 Seater BS IV  Hyderabad  2005   \n",
       "\n",
       "      Kilometers_Driven Fuel_Type Transmission Owner_Type  Mileage  Engine  \\\n",
       "2328            6500000    Diesel    Automatic      First    15.97  2993.0   \n",
       "340              775000    Diesel    Automatic      First    19.30  1968.0   \n",
       "1860             720000    Diesel       Manual      First    20.54  1598.0   \n",
       "358              620000    Petrol       Manual      First    20.36  1197.0   \n",
       "2823             480000    Diesel    Automatic      First    16.96  1968.0   \n",
       "3092             480000    Petrol       Manual      First    17.40  1497.0   \n",
       "4491             445000    Petrol       Manual      First    18.50  1197.0   \n",
       "6921             350000    Diesel       Manual      First    23.40  1248.0   \n",
       "3649             300000    Diesel       Manual      First    17.00  1405.0   \n",
       "1528             299322    Diesel       Manual      First    12.80  2494.0   \n",
       "\n",
       "       Power  Seats  New_price  Price  \n",
       "2328  258.00    5.0        NaN  65.00  \n",
       "340   141.00    5.0        NaN   7.50  \n",
       "1860  103.60    5.0        NaN   5.90  \n",
       "358    78.90    5.0        NaN   2.70  \n",
       "2823  138.03    5.0        NaN  13.00  \n",
       "3092  117.30    5.0        NaN   5.00  \n",
       "4491   82.90    5.0        NaN   4.45  \n",
       "6921   74.00    5.0        NaN    NaN  \n",
       "3649   70.00    5.0        NaN   1.00  \n",
       "1528  102.00    8.0        NaN   4.00  "
      ]
     },
     "execution_count": 7,
     "metadata": {},
     "output_type": "execute_result"
    }
   ],
   "source": [
    "# Sort the dataset in 'descending' order using the feature 'Kilometers_Driven' since there was an extreme value there which might be misprint\n",
    "data.sort_values(by='Kilometers_Driven',ascending=False).head(10)"
   ]
  },
  {
   "cell_type": "markdown",
   "metadata": {},
   "source": [
    "That 6500000 KM values doesn't make any sense for a car built in 2017, so it is safe to the drop the value since it is a data entry error "
   ]
  },
  {
   "cell_type": "code",
   "execution_count": 8,
   "metadata": {},
   "outputs": [
    {
     "data": {
      "text/html": [
       "<div>\n",
       "<style scoped>\n",
       "    .dataframe tbody tr th:only-of-type {\n",
       "        vertical-align: middle;\n",
       "    }\n",
       "\n",
       "    .dataframe tbody tr th {\n",
       "        vertical-align: top;\n",
       "    }\n",
       "\n",
       "    .dataframe thead th {\n",
       "        text-align: right;\n",
       "    }\n",
       "</style>\n",
       "<table border=\"1\" class=\"dataframe\">\n",
       "  <thead>\n",
       "    <tr style=\"text-align: right;\">\n",
       "      <th></th>\n",
       "      <th>S.No.</th>\n",
       "      <th>Name</th>\n",
       "      <th>Location</th>\n",
       "      <th>Year</th>\n",
       "      <th>Kilometers_Driven</th>\n",
       "      <th>Fuel_Type</th>\n",
       "      <th>Transmission</th>\n",
       "      <th>Owner_Type</th>\n",
       "      <th>Mileage</th>\n",
       "      <th>Engine</th>\n",
       "      <th>Power</th>\n",
       "      <th>Seats</th>\n",
       "      <th>New_price</th>\n",
       "      <th>Price</th>\n",
       "    </tr>\n",
       "  </thead>\n",
       "  <tbody>\n",
       "    <tr>\n",
       "      <th>340</th>\n",
       "      <td>340</td>\n",
       "      <td>Skoda Octavia Ambition Plus 2.0 TDI AT</td>\n",
       "      <td>Kolkata</td>\n",
       "      <td>2013</td>\n",
       "      <td>775000</td>\n",
       "      <td>Diesel</td>\n",
       "      <td>Automatic</td>\n",
       "      <td>First</td>\n",
       "      <td>19.30</td>\n",
       "      <td>1968.0</td>\n",
       "      <td>141.00</td>\n",
       "      <td>5.0</td>\n",
       "      <td>NaN</td>\n",
       "      <td>7.50</td>\n",
       "    </tr>\n",
       "    <tr>\n",
       "      <th>1860</th>\n",
       "      <td>1860</td>\n",
       "      <td>Volkswagen Vento Diesel Highline</td>\n",
       "      <td>Chennai</td>\n",
       "      <td>2013</td>\n",
       "      <td>720000</td>\n",
       "      <td>Diesel</td>\n",
       "      <td>Manual</td>\n",
       "      <td>First</td>\n",
       "      <td>20.54</td>\n",
       "      <td>1598.0</td>\n",
       "      <td>103.60</td>\n",
       "      <td>5.0</td>\n",
       "      <td>NaN</td>\n",
       "      <td>5.90</td>\n",
       "    </tr>\n",
       "    <tr>\n",
       "      <th>358</th>\n",
       "      <td>358</td>\n",
       "      <td>Hyundai i10 Magna 1.2</td>\n",
       "      <td>Chennai</td>\n",
       "      <td>2009</td>\n",
       "      <td>620000</td>\n",
       "      <td>Petrol</td>\n",
       "      <td>Manual</td>\n",
       "      <td>First</td>\n",
       "      <td>20.36</td>\n",
       "      <td>1197.0</td>\n",
       "      <td>78.90</td>\n",
       "      <td>5.0</td>\n",
       "      <td>NaN</td>\n",
       "      <td>2.70</td>\n",
       "    </tr>\n",
       "    <tr>\n",
       "      <th>2823</th>\n",
       "      <td>2823</td>\n",
       "      <td>Volkswagen Jetta 2013-2015 2.0L TDI Highline AT</td>\n",
       "      <td>Chennai</td>\n",
       "      <td>2015</td>\n",
       "      <td>480000</td>\n",
       "      <td>Diesel</td>\n",
       "      <td>Automatic</td>\n",
       "      <td>First</td>\n",
       "      <td>16.96</td>\n",
       "      <td>1968.0</td>\n",
       "      <td>138.03</td>\n",
       "      <td>5.0</td>\n",
       "      <td>NaN</td>\n",
       "      <td>13.00</td>\n",
       "    </tr>\n",
       "    <tr>\n",
       "      <th>3092</th>\n",
       "      <td>3092</td>\n",
       "      <td>Honda City i VTEC SV</td>\n",
       "      <td>Kolkata</td>\n",
       "      <td>2015</td>\n",
       "      <td>480000</td>\n",
       "      <td>Petrol</td>\n",
       "      <td>Manual</td>\n",
       "      <td>First</td>\n",
       "      <td>17.40</td>\n",
       "      <td>1497.0</td>\n",
       "      <td>117.30</td>\n",
       "      <td>5.0</td>\n",
       "      <td>NaN</td>\n",
       "      <td>5.00</td>\n",
       "    </tr>\n",
       "    <tr>\n",
       "      <th>4491</th>\n",
       "      <td>4491</td>\n",
       "      <td>Hyundai i20 Magna Optional 1.2</td>\n",
       "      <td>Bangalore</td>\n",
       "      <td>2013</td>\n",
       "      <td>445000</td>\n",
       "      <td>Petrol</td>\n",
       "      <td>Manual</td>\n",
       "      <td>First</td>\n",
       "      <td>18.50</td>\n",
       "      <td>1197.0</td>\n",
       "      <td>82.90</td>\n",
       "      <td>5.0</td>\n",
       "      <td>NaN</td>\n",
       "      <td>4.45</td>\n",
       "    </tr>\n",
       "    <tr>\n",
       "      <th>6921</th>\n",
       "      <td>6921</td>\n",
       "      <td>Maruti Swift Dzire Tour LDI</td>\n",
       "      <td>Jaipur</td>\n",
       "      <td>2012</td>\n",
       "      <td>350000</td>\n",
       "      <td>Diesel</td>\n",
       "      <td>Manual</td>\n",
       "      <td>First</td>\n",
       "      <td>23.40</td>\n",
       "      <td>1248.0</td>\n",
       "      <td>74.00</td>\n",
       "      <td>5.0</td>\n",
       "      <td>NaN</td>\n",
       "      <td>NaN</td>\n",
       "    </tr>\n",
       "    <tr>\n",
       "      <th>3649</th>\n",
       "      <td>3649</td>\n",
       "      <td>Tata Indigo LS</td>\n",
       "      <td>Jaipur</td>\n",
       "      <td>2008</td>\n",
       "      <td>300000</td>\n",
       "      <td>Diesel</td>\n",
       "      <td>Manual</td>\n",
       "      <td>First</td>\n",
       "      <td>17.00</td>\n",
       "      <td>1405.0</td>\n",
       "      <td>70.00</td>\n",
       "      <td>5.0</td>\n",
       "      <td>NaN</td>\n",
       "      <td>1.00</td>\n",
       "    </tr>\n",
       "    <tr>\n",
       "      <th>1528</th>\n",
       "      <td>1528</td>\n",
       "      <td>Toyota Innova 2.5 G (Diesel) 8 Seater BS IV</td>\n",
       "      <td>Hyderabad</td>\n",
       "      <td>2005</td>\n",
       "      <td>299322</td>\n",
       "      <td>Diesel</td>\n",
       "      <td>Manual</td>\n",
       "      <td>First</td>\n",
       "      <td>12.80</td>\n",
       "      <td>2494.0</td>\n",
       "      <td>102.00</td>\n",
       "      <td>8.0</td>\n",
       "      <td>NaN</td>\n",
       "      <td>4.00</td>\n",
       "    </tr>\n",
       "    <tr>\n",
       "      <th>6919</th>\n",
       "      <td>6919</td>\n",
       "      <td>ISUZU D-MAX V-Cross 4X4</td>\n",
       "      <td>Jaipur</td>\n",
       "      <td>2017</td>\n",
       "      <td>290000</td>\n",
       "      <td>Diesel</td>\n",
       "      <td>Manual</td>\n",
       "      <td>First</td>\n",
       "      <td>12.40</td>\n",
       "      <td>2499.0</td>\n",
       "      <td>134.00</td>\n",
       "      <td>5.0</td>\n",
       "      <td>NaN</td>\n",
       "      <td>NaN</td>\n",
       "    </tr>\n",
       "  </tbody>\n",
       "</table>\n",
       "</div>"
      ],
      "text/plain": [
       "      S.No.                                             Name   Location  Year  \\\n",
       "340     340           Skoda Octavia Ambition Plus 2.0 TDI AT    Kolkata  2013   \n",
       "1860   1860                 Volkswagen Vento Diesel Highline    Chennai  2013   \n",
       "358     358                            Hyundai i10 Magna 1.2    Chennai  2009   \n",
       "2823   2823  Volkswagen Jetta 2013-2015 2.0L TDI Highline AT    Chennai  2015   \n",
       "3092   3092                             Honda City i VTEC SV    Kolkata  2015   \n",
       "4491   4491                   Hyundai i20 Magna Optional 1.2  Bangalore  2013   \n",
       "6921   6921                      Maruti Swift Dzire Tour LDI     Jaipur  2012   \n",
       "3649   3649                                   Tata Indigo LS     Jaipur  2008   \n",
       "1528   1528      Toyota Innova 2.5 G (Diesel) 8 Seater BS IV  Hyderabad  2005   \n",
       "6919   6919                          ISUZU D-MAX V-Cross 4X4     Jaipur  2017   \n",
       "\n",
       "      Kilometers_Driven Fuel_Type Transmission Owner_Type  Mileage  Engine  \\\n",
       "340              775000    Diesel    Automatic      First    19.30  1968.0   \n",
       "1860             720000    Diesel       Manual      First    20.54  1598.0   \n",
       "358              620000    Petrol       Manual      First    20.36  1197.0   \n",
       "2823             480000    Diesel    Automatic      First    16.96  1968.0   \n",
       "3092             480000    Petrol       Manual      First    17.40  1497.0   \n",
       "4491             445000    Petrol       Manual      First    18.50  1197.0   \n",
       "6921             350000    Diesel       Manual      First    23.40  1248.0   \n",
       "3649             300000    Diesel       Manual      First    17.00  1405.0   \n",
       "1528             299322    Diesel       Manual      First    12.80  2494.0   \n",
       "6919             290000    Diesel       Manual      First    12.40  2499.0   \n",
       "\n",
       "       Power  Seats  New_price  Price  \n",
       "340   141.00    5.0        NaN   7.50  \n",
       "1860  103.60    5.0        NaN   5.90  \n",
       "358    78.90    5.0        NaN   2.70  \n",
       "2823  138.03    5.0        NaN  13.00  \n",
       "3092  117.30    5.0        NaN   5.00  \n",
       "4491   82.90    5.0        NaN   4.45  \n",
       "6921   74.00    5.0        NaN    NaN  \n",
       "3649   70.00    5.0        NaN   1.00  \n",
       "1528  102.00    8.0        NaN   4.00  \n",
       "6919  134.00    5.0        NaN    NaN  "
      ]
     },
     "execution_count": 8,
     "metadata": {},
     "output_type": "execute_result"
    }
   ],
   "source": [
    "# Removing the 'row' at index 2328 from the data\n",
    "data.drop(index=2328,inplace=True)\n",
    "data.sort_values(by='Kilometers_Driven',ascending=False).head(10)"
   ]
  },
  {
   "cell_type": "markdown",
   "metadata": {},
   "source": [
    "It is odd for used cars to have mileage of zero, check to make sure it is not an error "
   ]
  },
  {
   "cell_type": "code",
   "execution_count": 9,
   "metadata": {},
   "outputs": [
    {
     "data": {
      "text/html": [
       "<div>\n",
       "<style scoped>\n",
       "    .dataframe tbody tr th:only-of-type {\n",
       "        vertical-align: middle;\n",
       "    }\n",
       "\n",
       "    .dataframe tbody tr th {\n",
       "        vertical-align: top;\n",
       "    }\n",
       "\n",
       "    .dataframe thead th {\n",
       "        text-align: right;\n",
       "    }\n",
       "</style>\n",
       "<table border=\"1\" class=\"dataframe\">\n",
       "  <thead>\n",
       "    <tr style=\"text-align: right;\">\n",
       "      <th></th>\n",
       "      <th>S.No.</th>\n",
       "      <th>Name</th>\n",
       "      <th>Location</th>\n",
       "      <th>Year</th>\n",
       "      <th>Kilometers_Driven</th>\n",
       "      <th>Fuel_Type</th>\n",
       "      <th>Transmission</th>\n",
       "      <th>Owner_Type</th>\n",
       "      <th>Mileage</th>\n",
       "      <th>Engine</th>\n",
       "      <th>Power</th>\n",
       "      <th>Seats</th>\n",
       "      <th>New_price</th>\n",
       "      <th>Price</th>\n",
       "    </tr>\n",
       "  </thead>\n",
       "  <tbody>\n",
       "    <tr>\n",
       "      <th>2597</th>\n",
       "      <td>2597</td>\n",
       "      <td>Hyundai Santro Xing XP</td>\n",
       "      <td>Pune</td>\n",
       "      <td>2007</td>\n",
       "      <td>70000</td>\n",
       "      <td>Petrol</td>\n",
       "      <td>Manual</td>\n",
       "      <td>First</td>\n",
       "      <td>0.0</td>\n",
       "      <td>1086.0</td>\n",
       "      <td>NaN</td>\n",
       "      <td>5.0</td>\n",
       "      <td>NaN</td>\n",
       "      <td>1.12</td>\n",
       "    </tr>\n",
       "    <tr>\n",
       "      <th>2343</th>\n",
       "      <td>2343</td>\n",
       "      <td>Hyundai Santro AT</td>\n",
       "      <td>Hyderabad</td>\n",
       "      <td>2006</td>\n",
       "      <td>74483</td>\n",
       "      <td>Petrol</td>\n",
       "      <td>Automatic</td>\n",
       "      <td>First</td>\n",
       "      <td>0.0</td>\n",
       "      <td>999.0</td>\n",
       "      <td>NaN</td>\n",
       "      <td>5.0</td>\n",
       "      <td>NaN</td>\n",
       "      <td>2.30</td>\n",
       "    </tr>\n",
       "    <tr>\n",
       "      <th>5270</th>\n",
       "      <td>5270</td>\n",
       "      <td>Honda City 1.5 GXI</td>\n",
       "      <td>Bangalore</td>\n",
       "      <td>2002</td>\n",
       "      <td>53000</td>\n",
       "      <td>Petrol</td>\n",
       "      <td>Manual</td>\n",
       "      <td>Second</td>\n",
       "      <td>0.0</td>\n",
       "      <td>NaN</td>\n",
       "      <td>NaN</td>\n",
       "      <td>NaN</td>\n",
       "      <td>NaN</td>\n",
       "      <td>1.85</td>\n",
       "    </tr>\n",
       "    <tr>\n",
       "      <th>424</th>\n",
       "      <td>424</td>\n",
       "      <td>Volkswagen Jetta 2007-2011 1.9 L TDI</td>\n",
       "      <td>Hyderabad</td>\n",
       "      <td>2010</td>\n",
       "      <td>42021</td>\n",
       "      <td>Diesel</td>\n",
       "      <td>Manual</td>\n",
       "      <td>First</td>\n",
       "      <td>0.0</td>\n",
       "      <td>1968.0</td>\n",
       "      <td>NaN</td>\n",
       "      <td>5.0</td>\n",
       "      <td>NaN</td>\n",
       "      <td>5.45</td>\n",
       "    </tr>\n",
       "    <tr>\n",
       "      <th>6857</th>\n",
       "      <td>6857</td>\n",
       "      <td>Land Rover Freelander 2 TD4 SE</td>\n",
       "      <td>Mumbai</td>\n",
       "      <td>2011</td>\n",
       "      <td>87000</td>\n",
       "      <td>Diesel</td>\n",
       "      <td>Automatic</td>\n",
       "      <td>First</td>\n",
       "      <td>0.0</td>\n",
       "      <td>2179.0</td>\n",
       "      <td>115.0</td>\n",
       "      <td>5.0</td>\n",
       "      <td>NaN</td>\n",
       "      <td>NaN</td>\n",
       "    </tr>\n",
       "    <tr>\n",
       "      <th>443</th>\n",
       "      <td>443</td>\n",
       "      <td>Hyundai Santro GLS I - Euro I</td>\n",
       "      <td>Coimbatore</td>\n",
       "      <td>2012</td>\n",
       "      <td>50243</td>\n",
       "      <td>Petrol</td>\n",
       "      <td>Manual</td>\n",
       "      <td>First</td>\n",
       "      <td>0.0</td>\n",
       "      <td>1086.0</td>\n",
       "      <td>NaN</td>\n",
       "      <td>5.0</td>\n",
       "      <td>NaN</td>\n",
       "      <td>3.35</td>\n",
       "    </tr>\n",
       "    <tr>\n",
       "      <th>5119</th>\n",
       "      <td>5119</td>\n",
       "      <td>Hyundai Santro Xing XP</td>\n",
       "      <td>Kolkata</td>\n",
       "      <td>2008</td>\n",
       "      <td>45500</td>\n",
       "      <td>Petrol</td>\n",
       "      <td>Manual</td>\n",
       "      <td>Second</td>\n",
       "      <td>0.0</td>\n",
       "      <td>1086.0</td>\n",
       "      <td>NaN</td>\n",
       "      <td>5.0</td>\n",
       "      <td>NaN</td>\n",
       "      <td>1.17</td>\n",
       "    </tr>\n",
       "    <tr>\n",
       "      <th>5022</th>\n",
       "      <td>5022</td>\n",
       "      <td>Land Rover Freelander 2 TD4 SE</td>\n",
       "      <td>Hyderabad</td>\n",
       "      <td>2013</td>\n",
       "      <td>46000</td>\n",
       "      <td>Diesel</td>\n",
       "      <td>Automatic</td>\n",
       "      <td>Second</td>\n",
       "      <td>0.0</td>\n",
       "      <td>2179.0</td>\n",
       "      <td>115.0</td>\n",
       "      <td>5.0</td>\n",
       "      <td>NaN</td>\n",
       "      <td>26.00</td>\n",
       "    </tr>\n",
       "    <tr>\n",
       "      <th>5016</th>\n",
       "      <td>5016</td>\n",
       "      <td>Land Rover Freelander 2 TD4 HSE</td>\n",
       "      <td>Delhi</td>\n",
       "      <td>2013</td>\n",
       "      <td>72000</td>\n",
       "      <td>Diesel</td>\n",
       "      <td>Automatic</td>\n",
       "      <td>First</td>\n",
       "      <td>0.0</td>\n",
       "      <td>2179.0</td>\n",
       "      <td>115.0</td>\n",
       "      <td>5.0</td>\n",
       "      <td>NaN</td>\n",
       "      <td>15.50</td>\n",
       "    </tr>\n",
       "    <tr>\n",
       "      <th>2542</th>\n",
       "      <td>2542</td>\n",
       "      <td>Hyundai Santro GLS II - Euro II</td>\n",
       "      <td>Bangalore</td>\n",
       "      <td>2011</td>\n",
       "      <td>65000</td>\n",
       "      <td>Petrol</td>\n",
       "      <td>Manual</td>\n",
       "      <td>Second</td>\n",
       "      <td>0.0</td>\n",
       "      <td>NaN</td>\n",
       "      <td>NaN</td>\n",
       "      <td>NaN</td>\n",
       "      <td>NaN</td>\n",
       "      <td>3.15</td>\n",
       "    </tr>\n",
       "  </tbody>\n",
       "</table>\n",
       "</div>"
      ],
      "text/plain": [
       "      S.No.                                  Name    Location  Year  \\\n",
       "2597   2597                Hyundai Santro Xing XP        Pune  2007   \n",
       "2343   2343                     Hyundai Santro AT   Hyderabad  2006   \n",
       "5270   5270                    Honda City 1.5 GXI   Bangalore  2002   \n",
       "424     424  Volkswagen Jetta 2007-2011 1.9 L TDI   Hyderabad  2010   \n",
       "6857   6857        Land Rover Freelander 2 TD4 SE      Mumbai  2011   \n",
       "443     443         Hyundai Santro GLS I - Euro I  Coimbatore  2012   \n",
       "5119   5119                Hyundai Santro Xing XP     Kolkata  2008   \n",
       "5022   5022        Land Rover Freelander 2 TD4 SE   Hyderabad  2013   \n",
       "5016   5016       Land Rover Freelander 2 TD4 HSE       Delhi  2013   \n",
       "2542   2542       Hyundai Santro GLS II - Euro II   Bangalore  2011   \n",
       "\n",
       "      Kilometers_Driven Fuel_Type Transmission Owner_Type  Mileage  Engine  \\\n",
       "2597              70000    Petrol       Manual      First      0.0  1086.0   \n",
       "2343              74483    Petrol    Automatic      First      0.0   999.0   \n",
       "5270              53000    Petrol       Manual     Second      0.0     NaN   \n",
       "424               42021    Diesel       Manual      First      0.0  1968.0   \n",
       "6857              87000    Diesel    Automatic      First      0.0  2179.0   \n",
       "443               50243    Petrol       Manual      First      0.0  1086.0   \n",
       "5119              45500    Petrol       Manual     Second      0.0  1086.0   \n",
       "5022              46000    Diesel    Automatic     Second      0.0  2179.0   \n",
       "5016              72000    Diesel    Automatic      First      0.0  2179.0   \n",
       "2542              65000    Petrol       Manual     Second      0.0     NaN   \n",
       "\n",
       "      Power  Seats  New_price  Price  \n",
       "2597    NaN    5.0        NaN   1.12  \n",
       "2343    NaN    5.0        NaN   2.30  \n",
       "5270    NaN    NaN        NaN   1.85  \n",
       "424     NaN    5.0        NaN   5.45  \n",
       "6857  115.0    5.0        NaN    NaN  \n",
       "443     NaN    5.0        NaN   3.35  \n",
       "5119    NaN    5.0        NaN   1.17  \n",
       "5022  115.0    5.0        NaN  26.00  \n",
       "5016  115.0    5.0        NaN  15.50  \n",
       "2542    NaN    NaN        NaN   3.15  "
      ]
     },
     "execution_count": 9,
     "metadata": {},
     "output_type": "execute_result"
    }
   ],
   "source": [
    "## check for zero values to see error or not\n",
    "data.sort_values(by='Mileage').head(10)"
   ]
  },
  {
   "cell_type": "markdown",
   "metadata": {},
   "source": [
    "A lot of cars have 0 mileage, 0 could be a filler for null values. "
   ]
  },
  {
   "cell_type": "markdown",
   "metadata": {
    "id": "7Rwx-1ZuhU3D"
   },
   "source": [
    "## **Univariate Analysis**"
   ]
  },
  {
   "cell_type": "markdown",
   "metadata": {
    "id": "XYmSIliuIrcy"
   },
   "source": [
    "**Questions:**\n",
    "\n",
    "1. Do univariate analysis for numerical and categorical variables?\n",
    "2. Check the distribution of the different variables? is the distributions skewed?\n",
    "3. Do we need to do log_transformation, if so for what variables we need to do?\n",
    "4. Perfoem the log_transformation(if needed) and write down your observations?"
   ]
  },
  {
   "cell_type": "code",
   "execution_count": 10,
   "metadata": {
    "id": "KkKnOKT9j6w1"
   },
   "outputs": [],
   "source": [
    "##This function takes the numerical column as the input and returns the boxplots and histograms for the variable.\n",
    "\n",
    "def histogram_boxplot_maker(field, figsize = (15, 10), bins = None):\n",
    "        \n",
    "    f2, (abox, ahist) = plt.subplots(nrows = 2, \n",
    "                                           sharex = True,\n",
    "                                           gridspec_kw = {\"height_ratios\": (.25, .75)}, \n",
    "                                           figsize = figsize \n",
    "                                           ) # Creating the 2 subplots\n",
    "    \n",
    "    sns.boxplot(field, x = abox, showmeans = True, color = 'violet')\n",
    "    \n",
    "    sns.distplot(field, kde = F, x = ahist, bins = bins, palette = \"winter\") if bins else sns.distplot(field, kde = False, ax = ahist)\n",
    "    \n",
    "    ahist.axvline(np.mean(field), color = 'green', linestyle = '--') # Add mean to the histogram\n",
    "    \n",
    "    ahist.axvline(np.median(field), color = 'black', linestyle = '-') # Add median to the histogram"
   ]
  },
  {
   "cell_type": "code",
   "execution_count": 11,
   "metadata": {},
   "outputs": [
    {
     "name": "stdout",
     "output_type": "stream",
     "text": [
      "skewness of S.No. is : -0.00022364075468205203\n",
      "skewness of Year is : -0.8397050406997638\n",
      "skewness of Kilometers_Driven is : 3.832545848818344\n",
      "skewness of Mileage is : -0.43849302953596925\n",
      "skewness of Engine is : 1.413133430829896\n",
      "skewness of Power is : 1.9624262822569614\n",
      "skewness of Seats is : 1.9548877812669965\n",
      "skewness of New_price is : 4.128299677490268\n",
      "skewness of Price is : 3.337576076530038\n"
     ]
    },
    {
     "data": {
      "image/png": "[encoded data removed]",
      "text/plain": [
       "<Figure size 1080x720 with 2 Axes>"
      ]
     },
     "metadata": {
      "needs_background": "light"
     },
     "output_type": "display_data"
    },
    {
     "data": {
      "image/png": "[encoded data removed]",
      "text/plain": [
       "<Figure size 1080x720 with 2 Axes>"
      ]
     },
     "metadata": {
      "needs_background": "light"
     },
     "output_type": "display_data"
    },
    {
     "data": {
      "image/png": "[encoded data removed]",
      "text/plain": [
       "<Figure size 1080x720 with 2 Axes>"
      ]
     },
     "metadata": {
      "needs_background": "light"
     },
     "output_type": "display_data"
    },
    {
     "data": {
      "image/png": "[encoded data removed]",
      "text/plain": [
       "<Figure size 1080x720 with 2 Axes>"
      ]
     },
     "metadata": {
      "needs_background": "light"
     },
     "output_type": "display_data"
    },
    {
     "data": {
      "image/png": "[encoded data removed]",
      "text/plain": [
       "<Figure size 1080x720 with 2 Axes>"
      ]
     },
     "metadata": {
      "needs_background": "light"
     },
     "output_type": "display_data"
    },
    {
     "data": {
      "image/png": "[encoded data removed]",
      "text/plain": [
       "<Figure size 1080x720 with 2 Axes>"
      ]
     },
     "metadata": {
      "needs_background": "light"
     },
     "output_type": "display_data"
    },
    {
     "data": {
      "image/png": "[encoded data removed]",
      "text/plain": [
       "<Figure size 1080x720 with 2 Axes>"
      ]
     },
     "metadata": {
      "needs_background": "light"
     },
     "output_type": "display_data"
    },
    {
     "data": {
      "image/png": "[encoded data removed]",
      "text/plain": [
       "<Figure size 1080x720 with 2 Axes>"
      ]
     },
     "metadata": {
      "needs_background": "light"
     },
     "output_type": "display_data"
    },
    {
     "data": {
      "image/png": "[encoded data removed]",
      "text/plain": [
       "<Figure size 1080x720 with 2 Axes>"
      ]
     },
     "metadata": {
      "needs_background": "light"
     },
     "output_type": "display_data"
    }
   ],
   "source": [
    "intcols = data.select_dtypes(exclude = ['object']).columns\n",
    "\n",
    "for i in intcols:\n",
    "    histogram_boxplot_maker(data[i])\n",
    "    print(\"skewness of \"+ i + \" is :\",data[i].skew())"
   ]
  },
  {
   "cell_type": "markdown",
   "metadata": {},
   "source": [
    "Observations:\n",
    "Kilometers_Driven, Price Driven, and New Price are highly right-skewed. \n",
    "Engine, Power, and Seat driven are rightly skewed\n",
    "Everthing is else is not that skewed"
   ]
  },
  {
   "cell_type": "code",
   "execution_count": 12,
   "metadata": {},
   "outputs": [
    {
     "name": "stdout",
     "output_type": "stream",
     "text": [
      "skewness of log_kilometer driven is : -1.3539415163105548\n"
     ]
    },
    {
     "data": {
      "image/png": "[encoded data removed]",
      "text/plain": [
       "<Figure size 432x288 with 1 Axes>"
      ]
     },
     "metadata": {
      "needs_background": "light"
     },
     "output_type": "display_data"
    }
   ],
   "source": [
    "# Log transformation of the feature 'Kilometers_Driven'\n",
    "sns.distplot(np.log(data[\"Kilometers_Driven\"]), axlabel = \"Log(Kilometers_Driven)\");\n",
    "print(\"skewness of log_kilometer driven is :\",np.log(data[\"Kilometers_Driven\"]).skew())"
   ]
  },
  {
   "cell_type": "markdown",
   "metadata": {},
   "source": [
    "Observations and Insights: \n",
    "\n",
    "After log transformation on kilometers driven, the data seems to be normally distributed and hence can be used in our model for predictions"
   ]
  },
  {
   "cell_type": "code",
   "execution_count": 13,
   "metadata": {},
   "outputs": [],
   "source": [
    "# We can add a transformed kilometers_driven feature in data\n",
    "data[\"kilometers_driven_log\"] = np.log(data[\"Kilometers_Driven\"])"
   ]
  },
  {
   "cell_type": "code",
   "execution_count": 14,
   "metadata": {},
   "outputs": [
    {
     "name": "stdout",
     "output_type": "stream",
     "text": [
      "skewness of log price is: 1.205244817932507\n"
     ]
    },
    {
     "data": {
      "image/png": "[encoded data removed]",
      "text/plain": [
       "<Figure size 432x288 with 1 Axes>"
      ]
     },
     "metadata": {
      "needs_background": "light"
     },
     "output_type": "display_data"
    }
   ],
   "source": [
    "# Log transformation of the feature 'Price'\n",
    "sns.distplot(np.log(data[\"Price\"]), axlabel = \"Log(Price)\");\n",
    "print(\"skewness of log price is:\", np.log(data[\"Price\"].skew()))"
   ]
  },
  {
   "cell_type": "markdown",
   "metadata": {},
   "source": [
    "Observations and Insights: \n",
    "\n",
    "After log transformation on Price driven now the data seems to be normally distributed and hence can be used in our model for predictions."
   ]
  },
  {
   "cell_type": "code",
   "execution_count": 15,
   "metadata": {},
   "outputs": [],
   "source": [
    "# We can Add a transformed Price feature in data\n",
    "data[\"Price_log\"] = np.log(data[\"Price\"])"
   ]
  },
  {
   "cell_type": "code",
   "execution_count": 16,
   "metadata": {},
   "outputs": [
    {
     "name": "stdout",
     "output_type": "stream",
     "text": [
      "skewness of Log_Engine is 0.30076700325046135\n"
     ]
    },
    {
     "data": {
      "image/png": "[encoded data removed]",
      "text/plain": [
       "<Figure size 432x288 with 1 Axes>"
      ]
     },
     "metadata": {
      "needs_background": "light"
     },
     "output_type": "display_data"
    }
   ],
   "source": [
    "#making log transformation on variable Engine and checking skewness\n",
    "sns.distplot(np.log(data[\"Engine\"]), axlabel = \"Log(Engine)\");\n",
    "print(\"skewness of Log_Engine is\",np.log(data[\"Engine\"]).skew())"
   ]
  },
  {
   "cell_type": "code",
   "execution_count": 17,
   "metadata": {},
   "outputs": [
    {
     "name": "stdout",
     "output_type": "stream",
     "text": [
      "skewness of Log_Power is 0.4443657782789483\n"
     ]
    },
    {
     "data": {
      "image/png": "[encoded data removed]",
      "text/plain": [
       "<Figure size 432x288 with 1 Axes>"
      ]
     },
     "metadata": {
      "needs_background": "light"
     },
     "output_type": "display_data"
    }
   ],
   "source": [
    "#plotting distribution graph for log transformation of Power\n",
    "sns.distplot(np.log(np.log(data[\"Power\"])), axlabel = \"Log(Power)\");\n",
    "#checking skewness\n",
    "print(\"skewness of Log_Power is\",np.log(data['Power']).skew())"
   ]
  },
  {
   "cell_type": "markdown",
   "metadata": {},
   "source": [
    "Observations and Insights for the plots\n",
    "\n",
    "Kilometers driven and price were right skewed so we  applied log transformation to them \n",
    "which reduced it's skewness\n",
    "\n",
    "Mileage seems to be normally distributed\n",
    ", \n",
    "Engine and power is little skewed, after applyng log transformation skewness is reduced, but we didn't add it to the data set\n"
   ]
  },
  {
   "cell_type": "code",
   "execution_count": 18,
   "metadata": {},
   "outputs": [],
   "source": [
    "##Making percent bar graphs for the Categorical variables\n",
    "def percbar(c):\n",
    "\n",
    "    total = len(data[c]) # Length of the column\n",
    "    \n",
    "    plt.figure(figsize = (20, 10))\n",
    "    \n",
    "    a = sns.countplot(data[c], palette = 'Paired', order = data[c].value_counts().index)\n",
    "    \n",
    "    for p in a.patches:\n",
    "        \n",
    "        percentage = '{:.1f}%'.format(100 * p.get_height() / total) \n",
    "        \n",
    "        x = p.get_x() + p.get_width() / 2 - 0.05 \n",
    "        \n",
    "        y = p.get_y() + p.get_height()         \n",
    "        \n",
    "        a.annotate(percentage, (x, y), size = 12) \n",
    "    \n",
    "    plt.show() "
   ]
  },
  {
   "cell_type": "code",
   "execution_count": 19,
   "metadata": {},
   "outputs": [
    {
     "data": {
      "image/png": "[encoded data removed]",
      "text/plain": [
       "<Figure size 1440x720 with 1 Axes>"
      ]
     },
     "metadata": {
      "needs_background": "light"
     },
     "output_type": "display_data"
    },
    {
     "data": {
      "image/png": "[encoded data removed]",
      "text/plain": [
       "<Figure size 1440x720 with 1 Axes>"
      ]
     },
     "metadata": {
      "needs_background": "light"
     },
     "output_type": "display_data"
    },
    {
     "data": {
      "image/png": "[encoded data removed]",
      "text/plain": [
       "<Figure size 1440x720 with 1 Axes>"
      ]
     },
     "metadata": {
      "needs_background": "light"
     },
     "output_type": "display_data"
    },
    {
     "data": {
      "image/png": "[encoded data removed]",
      "text/plain": [
       "<Figure size 1440x720 with 1 Axes>"
      ]
     },
     "metadata": {
      "needs_background": "light"
     },
     "output_type": "display_data"
    },
    {
     "data": {
      "image/png": "[encoded data removed]",
      "text/plain": [
       "<Figure size 1440x720 with 1 Axes>"
      ]
     },
     "metadata": {
      "needs_background": "light"
     },
     "output_type": "display_data"
    }
   ],
   "source": [
    "percbar('Location')\n",
    "percbar('Year')\n",
    "percbar('Fuel_Type')\n",
    "percbar('Transmission')\n",
    "percbar('Owner_Type')\n"
   ]
  },
  {
   "cell_type": "markdown",
   "metadata": {},
   "source": [
    "Observations and Insights from plots:\n",
    "\n",
    "Location plot has 11 cities with Mumbai having most share of cars and Ahmedabad the least.\n",
    "\n",
    "Year built for car ranges from 1996 to 2015, cars built in 2004 or before have neligible share of cars\n",
    "\n",
    "Fuel type shows that diesel and petrol are the two big players. CNG and LPG have little share while electric is at zero.\n",
    "\n",
    "Transmission shows that manual is still the prefered type with a huge share at 71.8%\n",
    "\n",
    "Owner type has first owner at 82.1% share and second at 15.9%"
   ]
  },
  {
   "cell_type": "markdown",
   "metadata": {
    "id": "beo_tDmVhU3-"
   },
   "source": [
    "## **Bivariate Analysis**"
   ]
  },
  {
   "cell_type": "markdown",
   "metadata": {
    "id": "v1JvMEDfj6w1"
   },
   "source": [
    "**Questions:**\n",
    "\n",
    "1. Plot a scatter plot for the log transformed values(if log_transformation done in previous steps)?\n",
    "2. What can we infer form the correlation heatmap? Is there correlation between the dependent and independent variables?\n",
    "3. Plot a box plot for target variable and categorical variable 'Location' and write your observations?"
   ]
  },
  {
   "cell_type": "code",
   "execution_count": 20,
   "metadata": {
    "id": "sUUU3zskj6w1"
   },
   "outputs": [
    {
     "data": {
      "image/png": "[encoded data removed]",
      "text/plain": [
       "<Figure size 432x288 with 1 Axes>"
      ]
     },
     "metadata": {
      "needs_background": "light"
     },
     "output_type": "display_data"
    },
    {
     "data": {
      "image/png": "[encoded data removed]",
      "text/plain": [
       "<Figure size 432x288 with 1 Axes>"
      ]
     },
     "metadata": {
      "needs_background": "light"
     },
     "output_type": "display_data"
    }
   ],
   "source": [
    " ##plot pair plot for the variables 'year' and 'price_log'\n",
    "data.plot(y = 'Price_log', x = 'Year', style = 'o');\n",
    "\n",
    "#plot pair plot for the variables 'year' and 'kilometer_driven_log'\n",
    "data.plot(y = 'kilometers_driven_log', x = 'Year', style = 'o');"
   ]
  },
  {
   "cell_type": "markdown",
   "metadata": {},
   "source": [
    "Observations and Insights from plots:\n",
    "\n",
    "It looks the new the car the more expensive it is, while the opposite is the case for "
   ]
  },
  {
   "cell_type": "code",
   "execution_count": 21,
   "metadata": {},
   "outputs": [
    {
     "data": {
      "image/png": "[encoded data removed]",
      "text/plain": [
       "<Figure size 864x504 with 2 Axes>"
      ]
     },
     "metadata": {
      "needs_background": "light"
     },
     "output_type": "display_data"
    }
   ],
   "source": [
    "plt.figure(figsize = (12, 7))\n",
    "\n",
    "sns.heatmap(data.drop(['Kilometers_Driven','Price', 'S.No.'],axis = 1).corr(), annot = True, vmin = -1, vmax = 1)\n",
    "\n",
    "plt.show()"
   ]
  },
  {
   "cell_type": "markdown",
   "metadata": {},
   "source": [
    "Observations and Insights from plots:\n",
    "\n",
    "Engine, Power, Price look like the are positvely corrolated while it is the opposite with km driven and mileage. The mileage won is surprising. \n",
    "\n",
    "Year is positive with the price which make sense since newer used car on average more expensive "
   ]
  },
  {
   "cell_type": "code",
   "execution_count": 22,
   "metadata": {},
   "outputs": [
    {
     "data": {
      "image/png": "[encoded data removed]",
      "text/plain": [
       "<Figure size 864x360 with 1 Axes>"
      ]
     },
     "metadata": {
      "needs_background": "light"
     },
     "output_type": "display_data"
    }
   ],
   "source": [
    "plt.figure(figsize = (12, 5)) # Setting size of boxplot\n",
    "    \n",
    "sns.boxplot(x = data['Location'], y = data['Price']) # Defining x and y\n",
    "    \n",
    "plt.show()\n",
    "    "
   ]
  },
  {
   "cell_type": "markdown",
   "metadata": {},
   "source": [
    "Observations and Insights from plots:\n",
    " \n",
    " Coimbatore and Banglore have the most expensive cars while rest other cities are pretty much similar. \n",
    " \n",
    " Every city has huge number of outliers. Could be exotic cars."
   ]
  },
  {
   "cell_type": "markdown",
   "metadata": {
    "id": "70E7M7KJtOS1"
   },
   "source": [
    "### **Feature Engineering**"
   ]
  },
  {
   "cell_type": "markdown",
   "metadata": {
    "id": "TD7mqJI6tOS1"
   },
   "source": [
    "**Think about it:** The `Name` column in the current format might not be very useful in our analysis.\n",
    "Since the name contains both the brand name and the model name of the vehicle, the column would have too many unique values to be useful in prediction. Can we extract that information from that column? "
   ]
  },
  {
   "cell_type": "markdown",
   "metadata": {
    "id": "Z1bl_6rztOS1"
   },
   "source": [
    "* **Hint:** With 2041 unique names, car names are not going to be great predictors of the price in our current data. But we can process this column to extract important information for example brand name."
   ]
  },
  {
   "cell_type": "code",
   "execution_count": 23,
   "metadata": {
    "id": "_DYACQrnj6w2"
   },
   "outputs": [],
   "source": [
    "## copy the data\n",
    "data1 = data\n"
   ]
  },
  {
   "cell_type": "code",
   "execution_count": 24,
   "metadata": {},
   "outputs": [
    {
     "data": {
      "text/html": [
       "<div>\n",
       "<style scoped>\n",
       "    .dataframe tbody tr th:only-of-type {\n",
       "        vertical-align: middle;\n",
       "    }\n",
       "\n",
       "    .dataframe tbody tr th {\n",
       "        vertical-align: top;\n",
       "    }\n",
       "\n",
       "    .dataframe thead th {\n",
       "        text-align: right;\n",
       "    }\n",
       "</style>\n",
       "<table border=\"1\" class=\"dataframe\">\n",
       "  <thead>\n",
       "    <tr style=\"text-align: right;\">\n",
       "      <th></th>\n",
       "      <th>S.No.</th>\n",
       "      <th>Name</th>\n",
       "      <th>Location</th>\n",
       "      <th>Year</th>\n",
       "      <th>Kilometers_Driven</th>\n",
       "      <th>Fuel_Type</th>\n",
       "      <th>Transmission</th>\n",
       "      <th>Owner_Type</th>\n",
       "      <th>Mileage</th>\n",
       "      <th>Engine</th>\n",
       "      <th>Power</th>\n",
       "      <th>Seats</th>\n",
       "      <th>New_price</th>\n",
       "      <th>Price</th>\n",
       "      <th>kilometers_driven_log</th>\n",
       "      <th>Price_log</th>\n",
       "      <th>Brand</th>\n",
       "      <th>Model</th>\n",
       "    </tr>\n",
       "  </thead>\n",
       "  <tbody>\n",
       "    <tr>\n",
       "      <th>0</th>\n",
       "      <td>0</td>\n",
       "      <td>Maruti Wagon R LXI CNG</td>\n",
       "      <td>Mumbai</td>\n",
       "      <td>2010</td>\n",
       "      <td>72000</td>\n",
       "      <td>CNG</td>\n",
       "      <td>Manual</td>\n",
       "      <td>First</td>\n",
       "      <td>26.60</td>\n",
       "      <td>998.0</td>\n",
       "      <td>58.16</td>\n",
       "      <td>5.0</td>\n",
       "      <td>NaN</td>\n",
       "      <td>1.75</td>\n",
       "      <td>11.184421</td>\n",
       "      <td>0.559616</td>\n",
       "      <td>Maruti</td>\n",
       "      <td>WagonR</td>\n",
       "    </tr>\n",
       "    <tr>\n",
       "      <th>1</th>\n",
       "      <td>1</td>\n",
       "      <td>Hyundai Creta 1.6 CRDi SX Option</td>\n",
       "      <td>Pune</td>\n",
       "      <td>2015</td>\n",
       "      <td>41000</td>\n",
       "      <td>Diesel</td>\n",
       "      <td>Manual</td>\n",
       "      <td>First</td>\n",
       "      <td>19.67</td>\n",
       "      <td>1582.0</td>\n",
       "      <td>126.20</td>\n",
       "      <td>5.0</td>\n",
       "      <td>NaN</td>\n",
       "      <td>12.50</td>\n",
       "      <td>10.621327</td>\n",
       "      <td>2.525729</td>\n",
       "      <td>Hyundai</td>\n",
       "      <td>Creta1.6</td>\n",
       "    </tr>\n",
       "    <tr>\n",
       "      <th>2</th>\n",
       "      <td>2</td>\n",
       "      <td>Honda Jazz V</td>\n",
       "      <td>Chennai</td>\n",
       "      <td>2011</td>\n",
       "      <td>46000</td>\n",
       "      <td>Petrol</td>\n",
       "      <td>Manual</td>\n",
       "      <td>First</td>\n",
       "      <td>18.20</td>\n",
       "      <td>1199.0</td>\n",
       "      <td>88.70</td>\n",
       "      <td>5.0</td>\n",
       "      <td>8.61</td>\n",
       "      <td>4.50</td>\n",
       "      <td>10.736397</td>\n",
       "      <td>1.504077</td>\n",
       "      <td>Honda</td>\n",
       "      <td>JazzV</td>\n",
       "    </tr>\n",
       "    <tr>\n",
       "      <th>3</th>\n",
       "      <td>3</td>\n",
       "      <td>Maruti Ertiga VDI</td>\n",
       "      <td>Chennai</td>\n",
       "      <td>2012</td>\n",
       "      <td>87000</td>\n",
       "      <td>Diesel</td>\n",
       "      <td>Manual</td>\n",
       "      <td>First</td>\n",
       "      <td>20.77</td>\n",
       "      <td>1248.0</td>\n",
       "      <td>88.76</td>\n",
       "      <td>7.0</td>\n",
       "      <td>NaN</td>\n",
       "      <td>6.00</td>\n",
       "      <td>11.373663</td>\n",
       "      <td>1.791759</td>\n",
       "      <td>Maruti</td>\n",
       "      <td>ErtigaVDI</td>\n",
       "    </tr>\n",
       "    <tr>\n",
       "      <th>4</th>\n",
       "      <td>4</td>\n",
       "      <td>Audi A4 New 2.0 TDI Multitronic</td>\n",
       "      <td>Coimbatore</td>\n",
       "      <td>2013</td>\n",
       "      <td>40670</td>\n",
       "      <td>Diesel</td>\n",
       "      <td>Automatic</td>\n",
       "      <td>Second</td>\n",
       "      <td>15.20</td>\n",
       "      <td>1968.0</td>\n",
       "      <td>140.80</td>\n",
       "      <td>5.0</td>\n",
       "      <td>NaN</td>\n",
       "      <td>17.74</td>\n",
       "      <td>10.613246</td>\n",
       "      <td>2.875822</td>\n",
       "      <td>Audi</td>\n",
       "      <td>A4New</td>\n",
       "    </tr>\n",
       "  </tbody>\n",
       "</table>\n",
       "</div>"
      ],
      "text/plain": [
       "   S.No.                              Name    Location  Year  \\\n",
       "0      0            Maruti Wagon R LXI CNG      Mumbai  2010   \n",
       "1      1  Hyundai Creta 1.6 CRDi SX Option        Pune  2015   \n",
       "2      2                      Honda Jazz V     Chennai  2011   \n",
       "3      3                 Maruti Ertiga VDI     Chennai  2012   \n",
       "4      4   Audi A4 New 2.0 TDI Multitronic  Coimbatore  2013   \n",
       "\n",
       "   Kilometers_Driven Fuel_Type Transmission Owner_Type  Mileage  Engine  \\\n",
       "0              72000       CNG       Manual      First    26.60   998.0   \n",
       "1              41000    Diesel       Manual      First    19.67  1582.0   \n",
       "2              46000    Petrol       Manual      First    18.20  1199.0   \n",
       "3              87000    Diesel       Manual      First    20.77  1248.0   \n",
       "4              40670    Diesel    Automatic     Second    15.20  1968.0   \n",
       "\n",
       "    Power  Seats  New_price  Price  kilometers_driven_log  Price_log    Brand  \\\n",
       "0   58.16    5.0        NaN   1.75              11.184421   0.559616   Maruti   \n",
       "1  126.20    5.0        NaN  12.50              10.621327   2.525729  Hyundai   \n",
       "2   88.70    5.0       8.61   4.50              10.736397   1.504077    Honda   \n",
       "3   88.76    7.0        NaN   6.00              11.373663   1.791759   Maruti   \n",
       "4  140.80    5.0        NaN  17.74              10.613246   2.875822     Audi   \n",
       "\n",
       "       Model  \n",
       "0     WagonR  \n",
       "1   Creta1.6  \n",
       "2      JazzV  \n",
       "3  ErtigaVDI  \n",
       "4      A4New  "
      ]
     },
     "execution_count": 24,
     "metadata": {},
     "output_type": "execute_result"
    }
   ],
   "source": [
    "#Adding new colum with only brand name\n",
    "data1['Brand'] = data1['Name'].str.split(' ').str[0] #Separating Brand name from the Name\n",
    "data1['Model'] = data1['Name'].str.split(' ').str[1] + data1['Name'].str.split(' ').str[2]\n",
    "data1.head()"
   ]
  },
  {
   "cell_type": "code",
   "execution_count": 25,
   "metadata": {},
   "outputs": [
    {
     "data": {
      "text/plain": [
       "array(['Maruti', 'Hyundai', 'Honda', 'Audi', 'Nissan', 'Toyota',\n",
       "       'Volkswagen', 'Tata', 'Land', 'Mitsubishi', 'Renault',\n",
       "       'Mercedes-Benz', 'BMW', 'Mahindra', 'Ford', 'Porsche', 'Datsun',\n",
       "       'Jaguar', 'Volvo', 'Chevrolet', 'Skoda', 'Mini', 'Fiat', 'Jeep',\n",
       "       'Smart', 'Ambassador', 'Isuzu', 'ISUZU', 'Force', 'Bentley',\n",
       "       'Lamborghini', 'Hindustan', 'OpelCorsa'], dtype=object)"
      ]
     },
     "execution_count": 25,
     "metadata": {},
     "output_type": "execute_result"
    }
   ],
   "source": [
    "## See the brand names\n",
    "data1['Brand'].unique()"
   ]
  },
  {
   "cell_type": "code",
   "execution_count": 26,
   "metadata": {},
   "outputs": [],
   "source": [
    "## there are two Isuzu, need to make it one IsUzu brand\n",
    "data.loc[data.Brand == 'ISUZU','Brand']='Isuzu'\n"
   ]
  },
  {
   "cell_type": "code",
   "execution_count": 27,
   "metadata": {},
   "outputs": [
    {
     "data": {
      "text/plain": [
       "array(['Maruti', 'Hyundai', 'Honda', 'Audi', 'Nissan', 'Toyota',\n",
       "       'Volkswagen', 'Tata', 'Land', 'Mitsubishi', 'Renault',\n",
       "       'Mercedes-Benz', 'BMW', 'Mahindra', 'Ford', 'Porsche', 'Datsun',\n",
       "       'Jaguar', 'Volvo', 'Chevrolet', 'Skoda', 'Mini', 'Fiat', 'Jeep',\n",
       "       'Smart', 'Ambassador', 'Isuzu', 'Force', 'Bentley', 'Lamborghini',\n",
       "       'Hindustan', 'OpelCorsa'], dtype=object)"
      ]
     },
     "execution_count": 27,
     "metadata": {},
     "output_type": "execute_result"
    }
   ],
   "source": [
    "data1['Brand'].unique()"
   ]
  },
  {
   "cell_type": "code",
   "execution_count": 28,
   "metadata": {},
   "outputs": [
    {
     "data": {
      "text/plain": [
       "Brand\n",
       "Maruti           1444\n",
       "Hyundai          1340\n",
       "Honda             743\n",
       "Toyota            507\n",
       "Mercedes-Benz     380\n",
       "Volkswagen        374\n",
       "Ford              351\n",
       "Mahindra          331\n",
       "BMW               311\n",
       "Audi              285\n",
       "Tata              228\n",
       "Skoda             202\n",
       "Renault           170\n",
       "Chevrolet         151\n",
       "Nissan            117\n",
       "Land               67\n",
       "Jaguar             48\n",
       "Fiat               38\n",
       "Mitsubishi         36\n",
       "Mini               31\n",
       "Volvo              28\n",
       "Jeep               19\n",
       "Porsche            19\n",
       "Datsun             17\n",
       "Isuzu               5\n",
       "Force               3\n",
       "Bentley             2\n",
       "Lamborghini         1\n",
       "OpelCorsa           1\n",
       "Hindustan           1\n",
       "Smart               1\n",
       "Ambassador          1\n",
       "dtype: int64"
      ]
     },
     "execution_count": 28,
     "metadata": {},
     "output_type": "execute_result"
    }
   ],
   "source": [
    "## see number of cars for each brand\n",
    "data1.groupby('Brand').size().sort_values(ascending=False)"
   ]
  },
  {
   "cell_type": "markdown",
   "metadata": {
    "id": "2N4fU3TetOS3"
   },
   "source": [
    "### **Missing value treatment**"
   ]
  },
  {
   "cell_type": "code",
   "execution_count": 29,
   "metadata": {
    "id": "fqZJaxW-tOS4"
   },
   "outputs": [
    {
     "data": {
      "text/plain": [
       "S.No.                       0\n",
       "Name                        0\n",
       "Location                    0\n",
       "Year                        0\n",
       "Kilometers_Driven           0\n",
       "Fuel_Type                   0\n",
       "Transmission                0\n",
       "Owner_Type                  0\n",
       "Mileage                     2\n",
       "Engine                     46\n",
       "Power                     175\n",
       "Seats                      53\n",
       "New_price                6246\n",
       "Price                    1234\n",
       "kilometers_driven_log       0\n",
       "Price_log                1234\n",
       "Brand                       0\n",
       "Model                       1\n",
       "dtype: int64"
      ]
     },
     "execution_count": 29,
     "metadata": {},
     "output_type": "execute_result"
    }
   ],
   "source": [
    "## check for missing values\n",
    "data1.isnull().sum()"
   ]
  },
  {
   "cell_type": "code",
   "execution_count": 30,
   "metadata": {},
   "outputs": [],
   "source": [
    "#dropping null value in model since there is one\n",
    "data1.dropna(subset=[\"Model\"],axis=0,inplace=True)"
   ]
  },
  {
   "cell_type": "code",
   "execution_count": 31,
   "metadata": {},
   "outputs": [],
   "source": [
    "##using median to fill in the null values for the fields below\n",
    "data1['Seats'] = data1.groupby(['Model','Brand'])['Seats'].transform(lambda x: x.fillna(x.median()))\n"
   ]
  },
  {
   "cell_type": "code",
   "execution_count": 32,
   "metadata": {},
   "outputs": [],
   "source": [
    "data1['Mileage'] = data1.Mileage.fillna(data1.Mileage.median())"
   ]
  },
  {
   "cell_type": "code",
   "execution_count": 33,
   "metadata": {},
   "outputs": [],
   "source": [
    "data1['Engine'] = data1.Engine.fillna(data1.Engine.median())"
   ]
  },
  {
   "cell_type": "code",
   "execution_count": 34,
   "metadata": {},
   "outputs": [],
   "source": [
    "data1['Power'] = data1.Power.fillna(data1.Power.median())"
   ]
  },
  {
   "cell_type": "code",
   "execution_count": 35,
   "metadata": {},
   "outputs": [],
   "source": [
    "data1['New_price']=data1.groupby(['Name','Year'])['New_price'].apply(lambda x:x.fillna(x.median()))"
   ]
  },
  {
   "cell_type": "code",
   "execution_count": 36,
   "metadata": {},
   "outputs": [
    {
     "data": {
      "text/plain": [
       "S.No.                       0\n",
       "Name                        0\n",
       "Location                    0\n",
       "Year                        0\n",
       "Kilometers_Driven           0\n",
       "Fuel_Type                   0\n",
       "Transmission                0\n",
       "Owner_Type                  0\n",
       "Mileage                     0\n",
       "Engine                      0\n",
       "Power                       0\n",
       "Seats                      22\n",
       "New_price                6137\n",
       "Price                    1233\n",
       "kilometers_driven_log       0\n",
       "Price_log                1233\n",
       "Brand                       0\n",
       "Model                       0\n",
       "dtype: int64"
      ]
     },
     "execution_count": 36,
     "metadata": {},
     "output_type": "execute_result"
    }
   ],
   "source": [
    "##checking missing values again\n",
    "data1.isnull().sum()"
   ]
  },
  {
   "cell_type": "code",
   "execution_count": 37,
   "metadata": {},
   "outputs": [],
   "source": [
    "## changing null seat value to 5 because the is the median value \n",
    "data1.Seats=data1.Seats.fillna(5)"
   ]
  },
  {
   "cell_type": "code",
   "execution_count": 38,
   "metadata": {},
   "outputs": [
    {
     "data": {
      "text/plain": [
       "S.No.                       0\n",
       "Name                        0\n",
       "Location                    0\n",
       "Year                        0\n",
       "Kilometers_Driven           0\n",
       "Fuel_Type                   0\n",
       "Transmission                0\n",
       "Owner_Type                  0\n",
       "Mileage                     0\n",
       "Engine                      0\n",
       "Power                       0\n",
       "Seats                       0\n",
       "New_price                6137\n",
       "Price                    1233\n",
       "kilometers_driven_log       0\n",
       "Price_log                1233\n",
       "Brand                       0\n",
       "Model                       0\n",
       "dtype: int64"
      ]
     },
     "execution_count": 38,
     "metadata": {},
     "output_type": "execute_result"
    }
   ],
   "source": [
    "## check to see any nulls\n",
    "data1.isnull().sum()"
   ]
  },
  {
   "cell_type": "code",
   "execution_count": 39,
   "metadata": {},
   "outputs": [],
   "source": [
    "## get rid any entries with null values as those entries can not be filled in\n",
    "data1.dropna(inplace=True,axis=0)"
   ]
  },
  {
   "cell_type": "code",
   "execution_count": 40,
   "metadata": {},
   "outputs": [
    {
     "data": {
      "text/plain": [
       "Brand\n",
       "Maruti           248\n",
       "Hyundai           97\n",
       "Toyota            82\n",
       "BMW               70\n",
       "Honda             68\n",
       "Volkswagen        59\n",
       "Mercedes-Benz     44\n",
       "Tata              43\n",
       "Renault           30\n",
       "Mahindra          28\n",
       "Audi              25\n",
       "Ford              25\n",
       "Skoda             20\n",
       "Mini              16\n",
       "Jeep              15\n",
       "Nissan            15\n",
       "Land              10\n",
       "Datsun             7\n",
       "Mitsubishi         6\n",
       "Jaguar             4\n",
       "Volvo              3\n",
       "Porsche            1\n",
       "Isuzu              1\n",
       "Fiat               1\n",
       "dtype: int64"
      ]
     },
     "execution_count": 40,
     "metadata": {},
     "output_type": "execute_result"
    }
   ],
   "source": [
    "data1.groupby('Brand').size().sort_values(ascending=False)"
   ]
  },
  {
   "cell_type": "markdown",
   "metadata": {
    "id": "xo3_cE10kLy_"
   },
   "source": [
    "## **Important Insights from EDA and Data Preprocessing**\n",
    "\n",
    "What are the the most important observations and insights from the data based on the EDA and Data Preprocessing performed?\n",
    "\n",
    "6/7 of the entires were dropped because of New Price being null. \n",
    "\n",
    "New Price, Engine, Year, and Power positvely affect Price \n",
    "\n",
    "Also seeme like Maruti, Hyundai, Toyota, and BMW are the most popular Brands when excluded the null values \n",
    "\n"
   ]
  },
  {
   "cell_type": "markdown",
   "metadata": {
    "id": "Rzh8pcvmtOS8"
   },
   "source": [
    "## **Building Various Models**\n",
    "\n",
    "\n",
    "1. What we want to predict is the \"Price\". We will use the normalized version 'price_log' for modeling.\n",
    "2. Before we proceed to the model, we'll have to encode categorical features. We will drop categorical features like Name. \n",
    "3. We'll split the data into train and test, to be able to evaluate the model that we build on the train data.\n",
    "4. Build Regression models using train data.\n",
    "5. Evaluate the model performance."
   ]
  },
  {
   "cell_type": "markdown",
   "metadata": {
    "id": "0L-oAMItxLP-"
   },
   "source": [
    "### **Split the Data**"
   ]
  },
  {
   "cell_type": "markdown",
   "metadata": {
    "id": "Aat-Ne-ZVL3e"
   },
   "source": [
    "<li>Step1: Seperating the indepdent variables (X) and the dependent variable (y). \n",
    "<li>Step2: Encode the categorical variables in X using pd.dummies.\n",
    "<li>Step3: Split the data into train and test using train_test_split."
   ]
  },
  {
   "cell_type": "markdown",
   "metadata": {
    "id": "Cwh_IhfqVL3f"
   },
   "source": [
    "**Question:** \n",
    "\n",
    "1. Why we should drop 'Name','Price','price_log','Kilometers_Driven' from X before splitting?\n",
    "\n",
    "We should drop Name as it is too variable and can't be split into easily defined catgories/values. So hard to make dummy variables\n",
    "\n",
    "We should drop Price and Price log since those are values we are predicting\n",
    "\n",
    "We should drop Kilometers_Driven because of its skewness and Kilometers_Driven_log value is better because of less skewed it is. \n"
   ]
  },
  {
   "cell_type": "code",
   "execution_count": 41,
   "metadata": {
    "id": "a4bHKtUwj6w3"
   },
   "outputs": [],
   "source": [
    "##import libaries and copy data \n",
    "import numpy as np\n",
    "from sklearn.model_selection import train_test_split\n",
    "import pandas as pd\n",
    "from sklearn import metrics\n",
    "from sklearn.metrics import mean_squared_error\n",
    "from sklearn.metrics import accuracy_score\n",
    "\n",
    "#to ignore warnings\n",
    "import warnings\n",
    "warnings.filterwarnings('ignore')\n",
    "\n",
    "data2=data1\n",
    "carsData=data2"
   ]
  },
  {
   "cell_type": "markdown",
   "metadata": {
    "id": "gaj2riZFVL3g"
   },
   "source": [
    "For Regression Problems, some of the algorithms used are :<br>\n",
    "\n",
    "**1) Linear Regression** <br>\n",
    "**2) Ridge / Lasso Regression** <br>\n",
    "**3) Decision Trees** <br>\n",
    "**4) Random Forest** <br>"
   ]
  },
  {
   "cell_type": "code",
   "execution_count": 42,
   "metadata": {
    "id": "hJpC5Zrej6w3"
   },
   "outputs": [],
   "source": [
    "# Step-1 \n",
    "X = carsData.drop(['Name','Price','Price_log','Kilometers_Driven','Model', 'S.No.'], axis = 1)\n",
    "y = carsData[[\"Price_log\", \"Price\"]]\n"
   ]
  },
  {
   "cell_type": "code",
   "execution_count": 43,
   "metadata": {},
   "outputs": [],
   "source": [
    "# Step-2\n",
    "X = pd.get_dummies(X, drop_first = True)"
   ]
  },
  {
   "cell_type": "code",
   "execution_count": 44,
   "metadata": {},
   "outputs": [
    {
     "name": "stdout",
     "output_type": "stream",
     "text": [
      "(642, 46) (276, 46)\n"
     ]
    }
   ],
   "source": [
    "# Step-3\n",
    "X_train, X_test, y_train,y_test = train_test_split(X, y, test_size = 0.3, random_state = 1)\n",
    "print(X_train.shape, X_test.shape)"
   ]
  },
  {
   "cell_type": "code",
   "execution_count": 45,
   "metadata": {},
   "outputs": [],
   "source": [
    "##A function for calculating r2_score and RMSE on train and test data\n",
    "\n",
    "def get_model_score(model, flag = True):\n",
    "  \n",
    "    scorelist = [] \n",
    "    \n",
    "    pred_train = model.predict(X_train)\n",
    "    \n",
    "    pred_train_ = np.exp(pred_train)\n",
    "    \n",
    "    pred_test = model.predict(X_test)\n",
    "    \n",
    "    pred_test_ = np.exp(pred_test)\n",
    "    \n",
    "    train_r2 = metrics.r2_score(y_train['Price'], pred_train_)\n",
    "    \n",
    "    test_r2 = metrics.r2_score(y_test['Price'], pred_test_)\n",
    "    \n",
    "    train_rmse = metrics.mean_squared_error(y_train['Price'], pred_train_, squared = False)\n",
    "    \n",
    "    test_rmse = metrics.mean_squared_error(y_test['Price'], pred_test_, squared = False)\n",
    "    \n",
    "    scorelist.extend((train_r2, test_r2, train_rmse, test_rmse))\n",
    "    \n",
    "    if flag == True: \n",
    "        \n",
    "        print(\"R-sqaure on training set : \", metrics.r2_score(y_train['Price'], pred_train_))\n",
    "        \n",
    "        print(\"R-square on test set : \", metrics.r2_score(y_test['Price'], pred_test_))\n",
    "        \n",
    "        print(\"RMSE on training set : \", np.sqrt(mean_squared_error(y_train['Price'], pred_train_)))\n",
    "        \n",
    "        print(\"RMSE on test set : \", np.sqrt(mean_squared_error(y_test['Price'], pred_test_)))\n",
    "    \n",
    "    return scorelist"
   ]
  },
  {
   "cell_type": "code",
   "execution_count": 46,
   "metadata": {},
   "outputs": [
    {
     "name": "stdout",
     "output_type": "stream",
     "text": [
      "R-sqaure on training set :  0.9004483851056834\n",
      "R-square on test set :  0.7837911725550225\n",
      "RMSE on training set :  4.894580604596581\n",
      "RMSE on test set :  5.1153135826694465\n",
      "[0.9004483851056834, 0.7837911725550225, 4.894580604596581, 5.1153135826694465]\n"
     ]
    }
   ],
   "source": [
    "# Import Linear Regression from sklearn\n",
    "from sklearn.linear_model import LinearRegression\n",
    "\n",
    "# Create a linear regression model\n",
    "lr = LinearRegression()\n",
    "\n",
    "# Fit linear regression model\n",
    "lr.fit(X_train, y_train['Price_log']) \n",
    "\n",
    "# Get score of the model\n",
    "LR_score = get_model_score(lr)\n",
    "\n",
    "print(LR_score)"
   ]
  },
  {
   "cell_type": "code",
   "execution_count": 47,
   "metadata": {},
   "outputs": [
    {
     "name": "stdout",
     "output_type": "stream",
     "text": [
      "                                 OLS Regression Results                                \n",
      "=======================================================================================\n",
      "Dep. Variable:              Price_log   R-squared (uncentered):                   0.987\n",
      "Model:                            OLS   Adj. R-squared (uncentered):              0.986\n",
      "Method:                 Least Squares   F-statistic:                              1018.\n",
      "Date:                Wed, 09 Apr 2025   Prob (F-statistic):                        0.00\n",
      "Time:                        19:26:47   Log-Likelihood:                         -71.022\n",
      "No. Observations:                 642   AIC:                                      230.0\n",
      "Df Residuals:                     598   BIC:                                      426.5\n",
      "Df Model:                          44                                                  \n",
      "Covariance Type:            nonrobust                                                  \n",
      "=========================================================================================\n",
      "                            coef    std err          t      P>|t|      [0.025      0.975]\n",
      "-----------------------------------------------------------------------------------------\n",
      "Year                      0.0018      0.000     12.298      0.000       0.002       0.002\n",
      "Mileage                  -0.0126      0.005     -2.621      0.009      -0.022      -0.003\n",
      "Engine                    0.0001   7.07e-05      1.716      0.087   -1.75e-05       0.000\n",
      "Power                     0.0048      0.001      6.418      0.000       0.003       0.006\n",
      "Seats                     0.0495      0.022      2.241      0.025       0.006       0.093\n",
      "New_price                 0.0043      0.001      3.391      0.001       0.002       0.007\n",
      "kilometers_driven_log    -0.1941      0.015    -13.088      0.000      -0.223      -0.165\n",
      "Location_Bangalore        0.0146      0.077      0.189      0.850      -0.137       0.166\n",
      "Location_Chennai         -0.0837      0.070     -1.198      0.232      -0.221       0.054\n",
      "Location_Coimbatore       0.1894      0.059      3.223      0.001       0.074       0.305\n",
      "Location_Delhi           -0.0736      0.067     -1.103      0.271      -0.205       0.057\n",
      "Location_Hyderabad        0.0124      0.062      0.200      0.842      -0.110       0.135\n",
      "Location_Jaipur           0.0396      0.071      0.557      0.578      -0.100       0.179\n",
      "Location_Kochi            0.1431      0.058      2.471      0.014       0.029       0.257\n",
      "Location_Kolkata         -0.2743      0.066     -4.152      0.000      -0.404      -0.145\n",
      "Location_Mumbai          -0.0828      0.059     -1.399      0.162      -0.199       0.033\n",
      "Location_Pune            -0.0616      0.069     -0.890      0.374      -0.197       0.074\n",
      "Fuel_Type_Diesel          0.2425      0.131      1.848      0.065      -0.015       0.500\n",
      "Fuel_Type_Electric        1.3553      0.343      3.954      0.000       0.682       2.029\n",
      "Fuel_Type_Petrol         -0.1432      0.136     -1.056      0.291      -0.410       0.123\n",
      "Transmission_Manual      -0.2088      0.035     -6.033      0.000      -0.277      -0.141\n",
      "Owner_Type_Second        -0.1332      0.050     -2.680      0.008      -0.231      -0.036\n",
      "Owner_Type_Third         -1.2103      0.208     -5.824      0.000      -1.618      -0.802\n",
      "Brand_BMW                -0.2719      0.085     -3.216      0.001      -0.438      -0.106\n",
      "Brand_Datsun             -0.6990      0.174     -4.019      0.000      -1.041      -0.357\n",
      "Brand_Fiat             1.047e-15      2e-16      5.229      0.000    6.54e-16    1.44e-15\n",
      "Brand_Ford               -0.3774      0.119     -3.178      0.002      -0.611      -0.144\n",
      "Brand_Honda              -0.2901      0.102     -2.849      0.005      -0.490      -0.090\n",
      "Brand_Hyundai            -0.3286      0.099     -3.310      0.001      -0.524      -0.134\n",
      "Brand_Isuzu           -1.955e-16   1.33e-16     -1.468      0.143   -4.57e-16    6.61e-17\n",
      "Brand_Jaguar              0.1513      0.180      0.838      0.402      -0.203       0.506\n",
      "Brand_Jeep               -0.0431      0.123     -0.351      0.726      -0.284       0.198\n",
      "Brand_Land                0.2344      0.135      1.740      0.082      -0.030       0.499\n",
      "Brand_Mahindra           -0.6072      0.128     -4.730      0.000      -0.859      -0.355\n",
      "Brand_Maruti             -0.4292      0.099     -4.317      0.000      -0.624      -0.234\n",
      "Brand_Mercedes-Benz       0.0572      0.090      0.637      0.525      -0.119       0.233\n",
      "Brand_Mini                0.3539      0.120      2.947      0.003       0.118       0.590\n",
      "Brand_Mitsubishi         -0.3988      0.188     -2.126      0.034      -0.767      -0.030\n",
      "Brand_Nissan             -0.5287      0.127     -4.155      0.000      -0.779      -0.279\n",
      "Brand_Porsche            -3.8237      0.299    -12.791      0.000      -4.411      -3.237\n",
      "Brand_Renault            -0.5224      0.112     -4.666      0.000      -0.742      -0.303\n",
      "Brand_Skoda              -0.2332      0.115     -2.022      0.044      -0.460      -0.007\n",
      "Brand_Tata               -0.4595      0.108     -4.235      0.000      -0.673      -0.246\n",
      "Brand_Toyota             -0.2680      0.104     -2.588      0.010      -0.471      -0.065\n",
      "Brand_Volkswagen         -0.5040      0.103     -4.916      0.000      -0.705      -0.303\n",
      "Brand_Volvo               0.1637      0.218      0.751      0.453      -0.264       0.592\n",
      "==============================================================================\n",
      "Omnibus:                       20.845   Durbin-Watson:                   1.975\n",
      "Prob(Omnibus):                  0.000   Jarque-Bera (JB):               23.900\n",
      "Skew:                          -0.376   Prob(JB):                     6.46e-06\n",
      "Kurtosis:                       3.574   Cond. No.                     1.29e+16\n",
      "==============================================================================\n",
      "\n",
      "Notes:\n",
      "[1] R² is computed without centering (uncentered) since the model does not contain a constant.\n",
      "[2] Standard Errors assume that the covariance matrix of the errors is correctly specified.\n",
      "[3] The smallest eigenvalue is 2.6e-23. This might indicate that there are\n",
      "strong multicollinearity problems or that the design matrix is singular.\n"
     ]
    }
   ],
   "source": [
    "# Import Statsmodels \n",
    "import statsmodels.api as sm\n",
    "\n",
    "#  add a constant to he model\n",
    "x_train = sm.add_constant(X_train)\n",
    "\n",
    "# Add constant to test data\n",
    "x_test = sm.add_constant(X_test)\n",
    "\n",
    "## a fuction to biuld Ordinary least squares (OLS) regression model\n",
    "def buildolsmodel(train):\n",
    "    \n",
    "    # Create the model\n",
    "    olsmodel = sm.OLS(y_train[\"Price_log\"], X_train)\n",
    "    \n",
    "    return olsmodel.fit()\n",
    "\n",
    "\n",
    "# Fit linear model on new dataset\n",
    "olsmodel1 = buildolsmodel(X_train)\n",
    "\n",
    "print(olsmodel1.summary())"
   ]
  },
  {
   "cell_type": "code",
   "execution_count": 48,
   "metadata": {},
   "outputs": [
    {
     "name": "stdout",
     "output_type": "stream",
     "text": [
      "R-sqaure on training set :  0.851200945540197\n",
      "R-square on test set :  0.6849979666477758\n",
      "RMSE on training set :  5.9839976729719115\n",
      "RMSE on test set :  6.174364015517238\n"
     ]
    }
   ],
   "source": [
    "## get R2 and RMSE score for OLS Model\n",
    "OLS_score = get_model_score(olsmodel1)"
   ]
  },
  {
   "cell_type": "code",
   "execution_count": 49,
   "metadata": {},
   "outputs": [
    {
     "name": "stdout",
     "output_type": "stream",
     "text": [
      "R-sqaure on training set :  0.9019574111763893\n",
      "R-square on test set :  0.8294528383408648\n",
      "RMSE on training set :  4.8573423650591465\n",
      "RMSE on test set :  4.543157568835017\n"
     ]
    }
   ],
   "source": [
    "# Import Ridge/ Lasso Regression from sklearn\n",
    "from sklearn.linear_model import Ridge, Lasso\n",
    "\n",
    "# Create a Ridge regression model\n",
    "ridge = Ridge(alpha=1.0)\n",
    "\n",
    "\n",
    "# Fit Ridge regression model\n",
    "ridge.fit(X_train,y_train['Price_log'])\n",
    "\n",
    "# Get score of the model\n",
    "ridge_score = get_model_score(ridge)"
   ]
  },
  {
   "cell_type": "code",
   "execution_count": 50,
   "metadata": {},
   "outputs": [
    {
     "name": "stdout",
     "output_type": "stream",
     "text": [
      "R-sqaure on training set :  0.17772445259821978\n",
      "R-square on test set :  -0.1137995412647006\n",
      "RMSE on training set :  14.066952402994943\n",
      "RMSE on test set :  11.610183099980757\n"
     ]
    }
   ],
   "source": [
    "#create lasso regression model \n",
    "lasso=Lasso(alpha=1.0)\n",
    "\n",
    "#Fit Lasso regression model\n",
    "lasso.fit(X_train,y_train['Price_log'])\n",
    "\n",
    "# Get score of the model\n",
    "lasso_score = get_model_score(lasso)"
   ]
  },
  {
   "cell_type": "code",
   "execution_count": 51,
   "metadata": {},
   "outputs": [
    {
     "name": "stdout",
     "output_type": "stream",
     "text": [
      "R-sqaure on training set :  1.0\n",
      "R-square on test set :  0.8958220167723557\n",
      "RMSE on training set :  4.045389662000899e-15\n",
      "RMSE on test set :  3.5507780327248226\n"
     ]
    }
   ],
   "source": [
    "# Import Decision tree for Regression from sklearn\n",
    "from sklearn.tree import DecisionTreeRegressor \n",
    "\n",
    "# Create a decision tree regression model, use random_state = 1\n",
    "dtree =DecisionTreeRegressor(random_state = 1) \n",
    "\n",
    "# Fit decision tree regression model\n",
    "dtree.fit(X_train, y_train['Price_log'])\n",
    "\n",
    "# Get score of the model\n",
    "Dtree_model = get_model_score(dtree)"
   ]
  },
  {
   "cell_type": "code",
   "execution_count": 52,
   "metadata": {
    "scrolled": true
   },
   "outputs": [
    {
     "name": "stdout",
     "output_type": "stream",
     "text": [
      "                                Imp\n",
      "New_price              8.451562e-01\n",
      "Year                   8.839760e-02\n",
      "kilometers_driven_log  2.153736e-02\n",
      "Brand_Porsche          2.073567e-02\n",
      "Mileage                8.232371e-03\n",
      "Power                  3.503884e-03\n",
      "Location_Kolkata       1.541065e-03\n",
      "Fuel_Type_Petrol       1.426526e-03\n",
      "Engine                 1.241194e-03\n",
      "Location_Coimbatore    1.142132e-03\n",
      "Location_Mumbai        1.076242e-03\n",
      "Brand_Tata             1.046953e-03\n",
      "Brand_Honda            6.720273e-04\n",
      "Brand_Volkswagen       6.548652e-04\n",
      "Location_Kochi         5.865237e-04\n",
      "Location_Hyderabad     5.333191e-04\n",
      "Location_Delhi         3.983203e-04\n",
      "Location_Bangalore     3.033512e-04\n",
      "Owner_Type_Third       3.025401e-04\n",
      "Fuel_Type_Diesel       2.609522e-04\n",
      "Brand_Maruti           1.734490e-04\n",
      "Brand_Renault          1.505975e-04\n",
      "Brand_Toyota           1.396594e-04\n",
      "Seats                  1.304410e-04\n",
      "Location_Jaipur        1.207505e-04\n",
      "Brand_BMW              1.135859e-04\n",
      "Location_Pune          1.112702e-04\n",
      "Brand_Mercedes-Benz    9.477762e-05\n",
      "Brand_Mini             8.323426e-05\n",
      "Transmission_Manual    4.765342e-05\n",
      "Location_Chennai       3.668745e-05\n",
      "Owner_Type_Second      2.081958e-05\n",
      "Brand_Mahindra         1.418835e-05\n",
      "Brand_Hyundai          1.263163e-05\n",
      "Brand_Skoda            6.738316e-07\n",
      "Brand_Datsun           4.931001e-07\n",
      "Brand_Nissan           0.000000e+00\n",
      "Fuel_Type_Electric     0.000000e+00\n",
      "Brand_Ford             0.000000e+00\n",
      "Brand_Mitsubishi       0.000000e+00\n",
      "Brand_Fiat             0.000000e+00\n",
      "Brand_Land             0.000000e+00\n",
      "Brand_Jeep             0.000000e+00\n",
      "Brand_Jaguar           0.000000e+00\n",
      "Brand_Isuzu            0.000000e+00\n",
      "Brand_Volvo            0.000000e+00\n"
     ]
    }
   ],
   "source": [
    "print(pd.DataFrame(dtree.feature_importances_, columns = [\"Imp\"], index = X_train.columns).sort_values(by = 'Imp', ascending = False))"
   ]
  },
  {
   "cell_type": "code",
   "execution_count": 53,
   "metadata": {},
   "outputs": [
    {
     "name": "stdout",
     "output_type": "stream",
     "text": [
      "R-sqaure on training set :  0.9801430338285472\n",
      "R-square on test set :  0.95970619997036\n",
      "RMSE on training set :  2.185988023309085\n",
      "RMSE on test set :  2.2082826735795145\n"
     ]
    }
   ],
   "source": [
    "# Import Randomforest for Regression from sklearn\n",
    "from sklearn.ensemble import RandomForestRegressor\n",
    "\n",
    "# Create a Randomforest regression model \n",
    "clf = RandomForestRegressor(n_estimators=100)\n",
    "\n",
    "# Fit Randomforest regression model\n",
    "clf.fit(X_train, y_train['Price_log'])\n",
    "\n",
    "# Get score of the model\n",
    "clf_model = get_model_score(clf)"
   ]
  },
  {
   "cell_type": "code",
   "execution_count": 54,
   "metadata": {},
   "outputs": [
    {
     "name": "stdout",
     "output_type": "stream",
     "text": [
      "                            Imp\n",
      "New_price              0.840587\n",
      "Year                   0.075890\n",
      "kilometers_driven_log  0.025608\n",
      "Brand_Porsche          0.019474\n",
      "Power                  0.009413\n",
      "Mileage                0.005878\n",
      "Engine                 0.005805\n",
      "Brand_BMW              0.001466\n",
      "Owner_Type_Third       0.001356\n",
      "Location_Kolkata       0.001275\n",
      "Location_Delhi         0.001049\n",
      "Fuel_Type_Diesel       0.001011\n",
      "Location_Coimbatore    0.000986\n",
      "Brand_Hyundai          0.000887\n",
      "Location_Mumbai        0.000887\n",
      "Fuel_Type_Petrol       0.000825\n",
      "Brand_Tata             0.000672\n",
      "Location_Pune          0.000648\n",
      "Brand_Honda            0.000626\n",
      "Location_Hyderabad     0.000597\n",
      "Brand_Volkswagen       0.000557\n",
      "Location_Kochi         0.000535\n",
      "Location_Bangalore     0.000518\n",
      "Owner_Type_Second      0.000475\n",
      "Seats                  0.000455\n",
      "Transmission_Manual    0.000415\n",
      "Location_Chennai       0.000384\n",
      "Location_Jaipur        0.000272\n",
      "Brand_Mahindra         0.000259\n",
      "Brand_Maruti           0.000189\n",
      "Brand_Toyota           0.000154\n",
      "Brand_Skoda            0.000142\n",
      "Brand_Nissan           0.000133\n",
      "Brand_Mercedes-Benz    0.000121\n",
      "Brand_Ford             0.000112\n",
      "Brand_Renault          0.000098\n",
      "Brand_Mini             0.000097\n",
      "Brand_Land             0.000058\n",
      "Brand_Jeep             0.000021\n",
      "Fuel_Type_Electric     0.000019\n",
      "Brand_Mitsubishi       0.000015\n",
      "Brand_Datsun           0.000015\n",
      "Brand_Volvo            0.000010\n",
      "Brand_Jaguar           0.000005\n",
      "Brand_Fiat             0.000000\n",
      "Brand_Isuzu            0.000000\n"
     ]
    }
   ],
   "source": [
    "# Print important features similar to decision trees\n",
    "print(pd.DataFrame(clf.feature_importances_, columns = [\"Imp\"], index = X_train.columns).sort_values(by = 'Imp', ascending = False))"
   ]
  },
  {
   "cell_type": "markdown",
   "metadata": {
    "id": "sw0dMSgetOS_"
   },
   "source": [
    "### **Hyperparameter Tuning: Decision Tree**"
   ]
  },
  {
   "cell_type": "code",
   "execution_count": 55,
   "metadata": {
    "id": "AxBifx0pj6w3"
   },
   "outputs": [
    {
     "name": "stdout",
     "output_type": "stream",
     "text": [
      "Fitting 10 folds for each of 64 candidates, totalling 640 fits\n",
      "R-sqaure on training set :  0.8579445355022013\n",
      "R-square on test set :  0.8803571014419125\n",
      "RMSE on training set :  5.846827789847875\n",
      "RMSE on test set :  3.8052133748299277\n"
     ]
    }
   ],
   "source": [
    "#importing required libraries\n",
    "from sklearn.tree import DecisionTreeClassifier\n",
    "from sklearn.model_selection import GridSearchCV\n",
    "from sklearn.metrics import recall_score, make_scorer\n",
    "\n",
    "# Choose the type of estimator \n",
    "dt_tuned = DecisionTreeRegressor(random_state = 1)\n",
    "\n",
    "# Grid of parameters to choose from\n",
    "# Check documentation for all the parametrs that the model takes and play with those\n",
    "params = { 'splitter':[\"best\",\"random\"],\n",
    "    'max_depth': [1, 3, 5, 7, 9, 11, 12, 15],\n",
    "    'min_samples_leaf': [5, 10, 20, 25]\n",
    "    }\n",
    "\n",
    "# Type of scoring used to compare parameter combinations\n",
    "scorer = 'neg_mean_squared_error'\n",
    "\n",
    "# Run the grid search\n",
    "gridobj = GridSearchCV(estimator=dt_tuned,param_grid=params,\n",
    "                        cv=10, verbose=1, scoring = scorer)\n",
    "gridobj = gridobj.fit(X_train,y_train)\n",
    "\n",
    "# Set the model to the best combination of parameters\n",
    "dt_tuned = gridobj.best_estimator_\n",
    "\n",
    "# Fit the best algorithm to the dataJ\n",
    "dt_tuned.fit(X_train,y_train['Price_log'])\n",
    "\n",
    "# Get score of the dtree_tuned\n",
    "dt_model_tuned = get_model_score(dt_tuned)"
   ]
  },
  {
   "cell_type": "markdown",
   "metadata": {
    "id": "5jssEF5eIrdH"
   },
   "source": [
    "**Feature Importance**"
   ]
  },
  {
   "cell_type": "code",
   "execution_count": 56,
   "metadata": {
    "id": "OdzQWq8WtOTA"
   },
   "outputs": [
    {
     "name": "stdout",
     "output_type": "stream",
     "text": [
      "                            Imp\n",
      "New_price              0.901360\n",
      "Year                   0.086248\n",
      "kilometers_driven_log  0.005300\n",
      "Power                  0.003964\n",
      "Mileage                0.002865\n",
      "Engine                 0.000180\n",
      "Brand_Maruti           0.000083\n",
      "Brand_Mercedes-Benz    0.000000\n",
      "Brand_Hyundai          0.000000\n",
      "Brand_Isuzu            0.000000\n",
      "Brand_Jaguar           0.000000\n",
      "Brand_Jeep             0.000000\n",
      "Brand_Land             0.000000\n",
      "Brand_Mahindra         0.000000\n",
      "Brand_Nissan           0.000000\n",
      "Brand_Mini             0.000000\n",
      "Brand_Mitsubishi       0.000000\n",
      "Brand_Ford             0.000000\n",
      "Brand_Porsche          0.000000\n",
      "Brand_Renault          0.000000\n",
      "Brand_Skoda            0.000000\n",
      "Brand_Tata             0.000000\n",
      "Brand_Toyota           0.000000\n",
      "Brand_Volkswagen       0.000000\n",
      "Brand_Honda            0.000000\n",
      "Brand_BMW              0.000000\n",
      "Brand_Fiat             0.000000\n",
      "Brand_Datsun           0.000000\n",
      "Seats                  0.000000\n",
      "Location_Bangalore     0.000000\n",
      "Location_Chennai       0.000000\n",
      "Location_Coimbatore    0.000000\n",
      "Location_Delhi         0.000000\n",
      "Location_Hyderabad     0.000000\n",
      "Location_Jaipur        0.000000\n",
      "Location_Kochi         0.000000\n",
      "Location_Kolkata       0.000000\n",
      "Location_Mumbai        0.000000\n",
      "Location_Pune          0.000000\n",
      "Fuel_Type_Diesel       0.000000\n",
      "Fuel_Type_Electric     0.000000\n",
      "Fuel_Type_Petrol       0.000000\n",
      "Transmission_Manual    0.000000\n",
      "Owner_Type_Second      0.000000\n",
      "Owner_Type_Third       0.000000\n",
      "Brand_Volvo            0.000000\n"
     ]
    }
   ],
   "source": [
    "print(pd.DataFrame(dt_tuned.feature_importances_, columns = [\"Imp\"], index = X_train.columns).sort_values(by = 'Imp', ascending = False))"
   ]
  },
  {
   "cell_type": "markdown",
   "metadata": {
    "id": "18uxHTy2tOTB"
   },
   "source": [
    "### **Hyperparameter Tuning: Random Forest**"
   ]
  },
  {
   "cell_type": "code",
   "execution_count": 57,
   "metadata": {
    "id": "HSBtYgpctOTC"
   },
   "outputs": [
    {
     "name": "stdout",
     "output_type": "stream",
     "text": [
      "Fitting 10 folds for each of 36 candidates, totalling 360 fits\n"
     ]
    },
    {
     "data": {
      "text/plain": [
       "RandomForestRegressor(max_depth=10, min_samples_leaf=5, random_state=1)"
      ]
     },
     "execution_count": 57,
     "metadata": {},
     "output_type": "execute_result"
    }
   ],
   "source": [
    "# Choose the type of Regressor\n",
    "rf_tuned = RandomForestRegressor(random_state=1)\n",
    "\n",
    "# Define the parameters for Grid to choose from \n",
    "# Check documentation for all the parametrs that the model takes and play with those\n",
    "params={'max_depth': [1, 2, 3, 5, 7, 9, 10, 11, 12],\n",
    "    'min_samples_leaf': [5, 10, 20, 25]\n",
    "  }\n",
    "\n",
    "# Type of scoring used to compare parameter combinations\n",
    "scorer = 'neg_mean_squared_error'\n",
    "# Run the grid search\n",
    "gridobj = GridSearchCV(estimator=rf_tuned,param_grid=params,\n",
    "                        cv=10, verbose=1, scoring = scorer)\n",
    "gridobj = gridobj.fit(X_train,y_train)\n",
    "\n",
    "# Set the model to the best combination of parameters\n",
    "rf_tuned=gridobj.best_estimator_\n",
    "\n",
    "# Fit the best algorithm to the data\n",
    "rf_tuned.fit(X_train,y_train['Price_log'])"
   ]
  },
  {
   "cell_type": "code",
   "execution_count": 58,
   "metadata": {},
   "outputs": [
    {
     "name": "stdout",
     "output_type": "stream",
     "text": [
      "R-sqaure on training set :  0.8942599957897435\n",
      "R-square on test set :  0.9368377503272173\n",
      "RMSE on training set :  5.044417131006662\n",
      "RMSE on test set :  2.7648039837771434\n"
     ]
    }
   ],
   "source": [
    "# Get score of the model\n",
    "rf_model_tuned = get_model_score(rf_tuned)"
   ]
  },
  {
   "cell_type": "markdown",
   "metadata": {
    "id": "ItsgSUyiIrdI"
   },
   "source": [
    "**Feature Importance**"
   ]
  },
  {
   "cell_type": "code",
   "execution_count": 59,
   "metadata": {
    "id": "9khvM2ZhtOTC"
   },
   "outputs": [
    {
     "name": "stdout",
     "output_type": "stream",
     "text": [
      "                            Imp\n",
      "New_price              0.866859\n",
      "Year                   0.074252\n",
      "Power                  0.021444\n",
      "kilometers_driven_log  0.019574\n",
      "Mileage                0.005832\n",
      "Engine                 0.003605\n",
      "Brand_Mercedes-Benz    0.002322\n",
      "Brand_BMW              0.001020\n",
      "Location_Kochi         0.000924\n",
      "Brand_Land             0.000689\n",
      "Location_Kolkata       0.000556\n",
      "Fuel_Type_Petrol       0.000454\n",
      "Brand_Maruti           0.000385\n",
      "Brand_Tata             0.000323\n",
      "Seats                  0.000284\n",
      "Fuel_Type_Diesel       0.000266\n",
      "Brand_Volkswagen       0.000223\n",
      "Location_Coimbatore    0.000217\n",
      "Location_Mumbai        0.000125\n",
      "Brand_Hyundai          0.000113\n",
      "Location_Bangalore     0.000105\n",
      "Location_Pune          0.000076\n",
      "Transmission_Manual    0.000076\n",
      "Brand_Honda            0.000065\n",
      "Owner_Type_Second      0.000050\n",
      "Brand_Mahindra         0.000033\n",
      "Location_Delhi         0.000033\n",
      "Brand_Renault          0.000024\n",
      "Location_Chennai       0.000022\n",
      "Brand_Mini             0.000021\n",
      "Brand_Toyota           0.000018\n",
      "Location_Hyderabad     0.000008\n",
      "Brand_Isuzu            0.000000\n",
      "Brand_Nissan           0.000000\n",
      "Location_Jaipur        0.000000\n",
      "Brand_Skoda            0.000000\n",
      "Fuel_Type_Electric     0.000000\n",
      "Brand_Porsche          0.000000\n",
      "Brand_Mitsubishi       0.000000\n",
      "Brand_Jaguar           0.000000\n",
      "Owner_Type_Third       0.000000\n",
      "Brand_Datsun           0.000000\n",
      "Brand_Fiat             0.000000\n",
      "Brand_Ford             0.000000\n",
      "Brand_Jeep             0.000000\n",
      "Brand_Volvo            0.000000\n"
     ]
    }
   ],
   "source": [
    "print(pd.DataFrame(rf_tuned.feature_importances_, columns = [\"Imp\"], index = X_train.columns).sort_values(by = 'Imp', ascending = False))"
   ]
  },
  {
   "cell_type": "code",
   "execution_count": 60,
   "metadata": {},
   "outputs": [],
   "source": [
    "models = [lr, olsmodel1, ridge, lasso, dtree,clf, dt_tuned, rf_tuned ]\n",
    "\n",
    "# Defining empty lists to add train and test results\n",
    "r2train = []\n",
    "r2test = []\n",
    "rmsetrain = []\n",
    "rmsetest = []\n",
    "\n",
    "# Looping through all the models to get the rmse and r2 scores\n",
    "for model in models:\n",
    "    \n",
    "    # Accuracy score\n",
    "    j = get_model_score(model, False)\n",
    "    \n",
    "    r2train.append(j[0])\n",
    "    \n",
    "    r2test.append(j[1])\n",
    "    \n",
    "    rmsetrain.append(j[2])\n",
    "    \n",
    "    rmsetest.append(j[3])"
   ]
  },
  {
   "cell_type": "code",
   "execution_count": 61,
   "metadata": {},
   "outputs": [
    {
     "data": {
      "text/html": [
       "<div>\n",
       "<style scoped>\n",
       "    .dataframe tbody tr th:only-of-type {\n",
       "        vertical-align: middle;\n",
       "    }\n",
       "\n",
       "    .dataframe tbody tr th {\n",
       "        vertical-align: top;\n",
       "    }\n",
       "\n",
       "    .dataframe thead th {\n",
       "        text-align: right;\n",
       "    }\n",
       "</style>\n",
       "<table border=\"1\" class=\"dataframe\">\n",
       "  <thead>\n",
       "    <tr style=\"text-align: right;\">\n",
       "      <th></th>\n",
       "      <th>Model</th>\n",
       "      <th>Train_r2</th>\n",
       "      <th>Test_r2</th>\n",
       "      <th>Train_RMSE</th>\n",
       "      <th>Test_RMSE</th>\n",
       "    </tr>\n",
       "  </thead>\n",
       "  <tbody>\n",
       "    <tr>\n",
       "      <th>0</th>\n",
       "      <td>Linear Regression</td>\n",
       "      <td>0.900448</td>\n",
       "      <td>0.783791</td>\n",
       "      <td>4.894581e+00</td>\n",
       "      <td>5.115314</td>\n",
       "    </tr>\n",
       "    <tr>\n",
       "      <th>1</th>\n",
       "      <td>OLS model</td>\n",
       "      <td>0.851201</td>\n",
       "      <td>0.684998</td>\n",
       "      <td>5.983998e+00</td>\n",
       "      <td>6.174364</td>\n",
       "    </tr>\n",
       "    <tr>\n",
       "      <th>2</th>\n",
       "      <td>Ridge</td>\n",
       "      <td>0.901957</td>\n",
       "      <td>0.829453</td>\n",
       "      <td>4.857342e+00</td>\n",
       "      <td>4.543158</td>\n",
       "    </tr>\n",
       "    <tr>\n",
       "      <th>3</th>\n",
       "      <td>Lasso</td>\n",
       "      <td>0.177724</td>\n",
       "      <td>-0.113800</td>\n",
       "      <td>1.406695e+01</td>\n",
       "      <td>11.610183</td>\n",
       "    </tr>\n",
       "    <tr>\n",
       "      <th>4</th>\n",
       "      <td>Decision Tree</td>\n",
       "      <td>1.000000</td>\n",
       "      <td>0.895822</td>\n",
       "      <td>4.045390e-15</td>\n",
       "      <td>3.550778</td>\n",
       "    </tr>\n",
       "    <tr>\n",
       "      <th>5</th>\n",
       "      <td>Random forest</td>\n",
       "      <td>0.980143</td>\n",
       "      <td>0.959706</td>\n",
       "      <td>2.185988e+00</td>\n",
       "      <td>2.208283</td>\n",
       "    </tr>\n",
       "    <tr>\n",
       "      <th>6</th>\n",
       "      <td>Tuned Decision Tree</td>\n",
       "      <td>0.857945</td>\n",
       "      <td>0.880357</td>\n",
       "      <td>5.846828e+00</td>\n",
       "      <td>3.805213</td>\n",
       "    </tr>\n",
       "    <tr>\n",
       "      <th>7</th>\n",
       "      <td>Tuned Random forest</td>\n",
       "      <td>0.894260</td>\n",
       "      <td>0.936838</td>\n",
       "      <td>5.044417e+00</td>\n",
       "      <td>2.764804</td>\n",
       "    </tr>\n",
       "  </tbody>\n",
       "</table>\n",
       "</div>"
      ],
      "text/plain": [
       "                 Model  Train_r2   Test_r2    Train_RMSE  Test_RMSE\n",
       "0    Linear Regression  0.900448  0.783791  4.894581e+00   5.115314\n",
       "1            OLS model  0.851201  0.684998  5.983998e+00   6.174364\n",
       "2                Ridge  0.901957  0.829453  4.857342e+00   4.543158\n",
       "3                Lasso  0.177724 -0.113800  1.406695e+01  11.610183\n",
       "4        Decision Tree  1.000000  0.895822  4.045390e-15   3.550778\n",
       "5        Random forest  0.980143  0.959706  2.185988e+00   2.208283\n",
       "6  Tuned Decision Tree  0.857945  0.880357  5.846828e+00   3.805213\n",
       "7  Tuned Random forest  0.894260  0.936838  5.044417e+00   2.764804"
      ]
     },
     "execution_count": 61,
     "metadata": {},
     "output_type": "execute_result"
    }
   ],
   "source": [
    "##Made a comparsion frame to show all the scores of the model\n",
    "comparisonframe = pd.DataFrame({'Model':['Linear Regression', 'OLS model','Ridge','Lasso','Decision Tree','Random forest','Tuned Decision Tree','Tuned Random forest'], \n",
    "                                          'Train_r2': r2train,'Test_r2': r2test,\n",
    "                                          'Train_RMSE': rmsetrain,'Test_RMSE': rmsetest}) \n",
    "comparisonframe"
   ]
  },
  {
   "cell_type": "markdown",
   "metadata": {
    "id": "PVzow_ehj6w6"
   },
   "source": [
    "## **Conclusions and Recommendations**"
   ]
  },
  {
   "cell_type": "markdown",
   "metadata": {
    "id": "kPywjJo6uS-9"
   },
   "source": [
    "**1. Comparison of various techniques and their relative performance based on chosen Metric (Measure of success):** \n",
    "- How do different techniques perform? Which one is performing relatively better? Is there scope to improve the performance further?\n",
    "\n",
    "The Regressions models look like their are overfitting based on their r2 and RMSE values with Train_r2 being much higher than test_r2. OLS Regression is not a good model based the test r-squared values likewise with Lasso Regression which was negative The Decision Tree looks like it overfits as well based on the r-squared values. The random forest test and training r-squared vales are very similar likewise with the RMSE_score. "
   ]
  },
  {
   "cell_type": "markdown",
   "metadata": {
    "id": "5mtOvTtEY7sM"
   },
   "source": [
    "**2. Refined insights:** \n",
    "- What are the most meaningful insights relevant to the problem?\n",
    "That New Price is the most significant factor in determining price based on the better models with 80% of the share. kilometers_driven_log, and if the Brand is Porsche also has little effect on price. While the other field have not any effect on the price at all. \n",
    "\n",
    "So it seem like New Price deteremines the used car price the most which makes sense due to expensive new cars becoming expensive used cars.  \n"
   ]
  },
  {
   "cell_type": "markdown",
   "metadata": {
    "id": "HNJHd0R7Y7sM"
   },
   "source": [
    "**3. Proposal for the final solution design:** \n",
    "- What model do you propose to be adopted? Why is this the best solution to adopt?\n",
    "\n",
    "Based on the the scores, the random forest model is the best model to adopt because how similar the R2 and RSME values are. So, there is not much overfitting or underfitting. Therefore, one can use this random forest model on similar used cars with unknown prices and get similar values as the used cars with known prices. A risk with the model is that a lot of the data was dropped due to missing values because most of the cars did not have new prices. So a challenge would be seeing would this model work the best with a more full data set. The benefit of the solution is that it is easy to how important the features are and it makes sense since a seller of a used car will based the price on a depreciated value when the car was bought new. Maybe add some deep learning models or get data set with less values can help Cars4u get a better price predictor model. That could be a cost finding the new prices of the car and time spent fine tuning models. "
   ]
  },
  {
   "cell_type": "code",
   "execution_count": null,
   "metadata": {},
   "outputs": [],
   "source": []
  }
 ],
 "metadata": {
  "colab": {
   "provenance": []
  },
  "kernelspec": {
   "display_name": "Python 3 (ipykernel)",
   "language": "python",
   "name": "python3"
  },
  "language_info": {
   "codemirror_mode": {
    "name": "ipython",
    "version": 3
   },
   "file_extension": ".py",
   "mimetype": "text/x-python",
   "name": "python",
   "nbconvert_exporter": "python",
   "pygments_lexer": "ipython3",
   "version": "3.9.12"
  }
 },
 "nbformat": 4,
 "nbformat_minor": 1
}
